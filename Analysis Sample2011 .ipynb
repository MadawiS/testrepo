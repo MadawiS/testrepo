{
 "cells": [
  {
   "cell_type": "code",
   "execution_count": 1,
   "metadata": {},
   "outputs": [],
   "source": [
    "import pandas as pd\n",
    "import numpy as np\n",
    "import matplotlib.pyplot as plt\n",
    "import seaborn as sb\n",
    "%matplotlib inline"
   ]
  },
  {
   "cell_type": "markdown",
   "metadata": {},
   "source": [
    "## In this dataset we'll be analyzing it and try to figure out which is transaction is either LAND or BUILDING.\n",
    "\n",
    "### The first step is data wrangling that involves: gathering, selecting, and cleaning data."
   ]
  },
  {
   "cell_type": "code",
   "execution_count": 2,
   "metadata": {},
   "outputs": [
    {
     "name": "stdout",
     "output_type": "stream",
     "text": [
      "Analysis Sample2011 .ipynb Sample2011.xlsx\r\n",
      "\u001b[34mCovid19 Analysis\u001b[m\u001b[m\r\n"
     ]
    }
   ],
   "source": [
    "\n",
    "!ls"
   ]
  },
  {
   "cell_type": "code",
   "execution_count": 3,
   "metadata": {},
   "outputs": [],
   "source": [
    "\n",
    "# Making a list of missing value types\n",
    "missing_values = [\"n/a\", \"na\", \"--\" , \"-\", \"__\" , \"_\", \",\", \"nan\"]\n",
    "df = pd.read_excel('Sample2011.xlsx', na_values = missing_values)\n",
    "\n",
    "#df = pd.read_excel('Sample2011.xlsx')\n",
    "#pd.set_option('display.max_rows', df.shape[0]+1)\n",
    "\n"
   ]
  },
  {
   "cell_type": "code",
   "execution_count": 4,
   "metadata": {
    "scrolled": true
   },
   "outputs": [
    {
     "data": {
      "text/html": [
       "<div>\n",
       "<style scoped>\n",
       "    .dataframe tbody tr th:only-of-type {\n",
       "        vertical-align: middle;\n",
       "    }\n",
       "\n",
       "    .dataframe tbody tr th {\n",
       "        vertical-align: top;\n",
       "    }\n",
       "\n",
       "    .dataframe thead th {\n",
       "        text-align: right;\n",
       "    }\n",
       "</style>\n",
       "<table border=\"1\" class=\"dataframe\">\n",
       "  <thead>\n",
       "    <tr style=\"text-align: right;\">\n",
       "      <th></th>\n",
       "      <th>تفاصيل الصفقات المخطط</th>\n",
       "      <th>تفاصيل الصفقات عدد العقارات - القطعة</th>\n",
       "      <th>تفاصيل الصفقات التاريخ_ميلادي</th>\n",
       "      <th>تفاصيل الصفقات (رقم الصفقة)</th>\n",
       "      <th>السعر بالريال السعودي</th>\n",
       "      <th>Unnamed: 5</th>\n",
       "      <th>المساحة بالمتر المربع</th>\n",
       "      <th>سعر المتر المربع</th>\n",
       "    </tr>\n",
       "  </thead>\n",
       "  <tbody>\n",
       "    <tr>\n",
       "      <th>0</th>\n",
       "      <td>مخطط/2509</td>\n",
       "      <td>قطعة 4401/2</td>\n",
       "      <td>2011-10-18</td>\n",
       "      <td>1457889</td>\n",
       "      <td>ر.س. 370,000</td>\n",
       "      <td>370000</td>\n",
       "      <td>480.00</td>\n",
       "      <td>771</td>\n",
       "    </tr>\n",
       "    <tr>\n",
       "      <th>1</th>\n",
       "      <td>مخطط/2509</td>\n",
       "      <td>قطعة 4402/1</td>\n",
       "      <td>2011-10-17</td>\n",
       "      <td>1455745</td>\n",
       "      <td>ر.س. 360,000</td>\n",
       "      <td>360000</td>\n",
       "      <td>480.00</td>\n",
       "      <td>750</td>\n",
       "    </tr>\n",
       "    <tr>\n",
       "      <th>2</th>\n",
       "      <td>مخطط/2509</td>\n",
       "      <td>قطعة 4409/1</td>\n",
       "      <td>2011-10-30</td>\n",
       "      <td>1473217</td>\n",
       "      <td>ر.س. 390,000</td>\n",
       "      <td>390000</td>\n",
       "      <td>520.00</td>\n",
       "      <td>750</td>\n",
       "    </tr>\n",
       "    <tr>\n",
       "      <th>3</th>\n",
       "      <td>مخطط/2509</td>\n",
       "      <td>قطعة 4453/2</td>\n",
       "      <td>2011-10-12</td>\n",
       "      <td>1449976</td>\n",
       "      <td>ر.س. 370,000</td>\n",
       "      <td>370000</td>\n",
       "      <td>510.00</td>\n",
       "      <td>725</td>\n",
       "    </tr>\n",
       "    <tr>\n",
       "      <th>4</th>\n",
       "      <td>مخطط/2509</td>\n",
       "      <td>قطعة 4455/1</td>\n",
       "      <td>2011-10-23</td>\n",
       "      <td>1463784</td>\n",
       "      <td>ر.س. 370,000</td>\n",
       "      <td>370000</td>\n",
       "      <td>510.00</td>\n",
       "      <td>725</td>\n",
       "    </tr>\n",
       "  </tbody>\n",
       "</table>\n",
       "</div>"
      ],
      "text/plain": [
       "  تفاصيل الصفقات المخطط تفاصيل الصفقات عدد العقارات - القطعة  \\\n",
       "0             مخطط/2509                          قطعة 4401/2   \n",
       "1             مخطط/2509                          قطعة 4402/1   \n",
       "2             مخطط/2509                          قطعة 4409/1   \n",
       "3             مخطط/2509                          قطعة 4453/2   \n",
       "4             مخطط/2509                          قطعة 4455/1   \n",
       "\n",
       "  تفاصيل الصفقات التاريخ_ميلادي  تفاصيل الصفقات (رقم الصفقة)  \\\n",
       "0                    2011-10-18                      1457889   \n",
       "1                    2011-10-17                      1455745   \n",
       "2                    2011-10-30                      1473217   \n",
       "3                    2011-10-12                      1449976   \n",
       "4                    2011-10-23                      1463784   \n",
       "\n",
       "  السعر بالريال السعودي  Unnamed: 5 المساحة بالمتر المربع سعر المتر المربع  \n",
       "0          ر.س. 370,000      370000                480.00              771  \n",
       "1          ر.س. 360,000      360000                480.00              750  \n",
       "2          ر.س. 390,000      390000                520.00              750  \n",
       "3          ر.س. 370,000      370000                510.00              725  \n",
       "4          ر.س. 370,000      370000                510.00              725  "
      ]
     },
     "execution_count": 4,
     "metadata": {},
     "output_type": "execute_result"
    }
   ],
   "source": [
    "df.head()"
   ]
  },
  {
   "cell_type": "code",
   "execution_count": 5,
   "metadata": {},
   "outputs": [
    {
     "data": {
      "text/plain": [
       "(23297, 8)"
      ]
     },
     "execution_count": 5,
     "metadata": {},
     "output_type": "execute_result"
    }
   ],
   "source": [
    "df.shape"
   ]
  },
  {
   "cell_type": "code",
   "execution_count": 6,
   "metadata": {},
   "outputs": [
    {
     "data": {
      "text/html": [
       "<div>\n",
       "<style scoped>\n",
       "    .dataframe tbody tr th:only-of-type {\n",
       "        vertical-align: middle;\n",
       "    }\n",
       "\n",
       "    .dataframe tbody tr th {\n",
       "        vertical-align: top;\n",
       "    }\n",
       "\n",
       "    .dataframe thead th {\n",
       "        text-align: right;\n",
       "    }\n",
       "</style>\n",
       "<table border=\"1\" class=\"dataframe\">\n",
       "  <thead>\n",
       "    <tr style=\"text-align: right;\">\n",
       "      <th></th>\n",
       "      <th>تفاصيل الصفقات المخطط</th>\n",
       "      <th>تفاصيل الصفقات عدد العقارات - القطعة</th>\n",
       "      <th>تفاصيل الصفقات التاريخ_ميلادي</th>\n",
       "      <th>تفاصيل الصفقات (رقم الصفقة)</th>\n",
       "      <th>السعر بالريال السعودي</th>\n",
       "      <th>Unnamed: 5</th>\n",
       "      <th>المساحة بالمتر المربع</th>\n",
       "      <th>سعر المتر المربع</th>\n",
       "    </tr>\n",
       "  </thead>\n",
       "  <tbody>\n",
       "    <tr>\n",
       "      <th>23292</th>\n",
       "      <td>مخطط/537/ 1</td>\n",
       "      <td>قطعة 299</td>\n",
       "      <td>2011-12-04</td>\n",
       "      <td>1500400</td>\n",
       "      <td>ر.س. 3,000,000</td>\n",
       "      <td>3000000</td>\n",
       "      <td>945.00</td>\n",
       "      <td>3,175</td>\n",
       "    </tr>\n",
       "    <tr>\n",
       "      <th>23293</th>\n",
       "      <td>مخطط/945/ ش د</td>\n",
       "      <td>قطعة 110</td>\n",
       "      <td>2011-12-18</td>\n",
       "      <td>1514775</td>\n",
       "      <td>ر.س. 1,600,000</td>\n",
       "      <td>1600000</td>\n",
       "      <td>1,083.32</td>\n",
       "      <td>1,477</td>\n",
       "    </tr>\n",
       "    <tr>\n",
       "      <th>23294</th>\n",
       "      <td>مخطط/945/ ش د</td>\n",
       "      <td>قطعة 229</td>\n",
       "      <td>2011-12-27</td>\n",
       "      <td>1525802</td>\n",
       "      <td>ر.س. 1,705,000</td>\n",
       "      <td>1705000</td>\n",
       "      <td>922.00</td>\n",
       "      <td>1,849</td>\n",
       "    </tr>\n",
       "    <tr>\n",
       "      <th>23295</th>\n",
       "      <td>مخطط/945/ ش د</td>\n",
       "      <td>قطعة 278</td>\n",
       "      <td>2011-12-17</td>\n",
       "      <td>1513117</td>\n",
       "      <td>ر.س. 3,500,000</td>\n",
       "      <td>3500000</td>\n",
       "      <td>660.00</td>\n",
       "      <td>5,303</td>\n",
       "    </tr>\n",
       "    <tr>\n",
       "      <th>23296</th>\n",
       "      <td>مخطط/945/ ش د</td>\n",
       "      <td>قطعة 291</td>\n",
       "      <td>2011-12-03</td>\n",
       "      <td>1498562</td>\n",
       "      <td>ر.س. 1,020,000</td>\n",
       "      <td>1020000</td>\n",
       "      <td>600.00</td>\n",
       "      <td>1,700</td>\n",
       "    </tr>\n",
       "  </tbody>\n",
       "</table>\n",
       "</div>"
      ],
      "text/plain": [
       "      تفاصيل الصفقات المخطط تفاصيل الصفقات عدد العقارات - القطعة  \\\n",
       "23292           مخطط/537/ 1                             قطعة 299   \n",
       "23293         مخطط/945/ ش د                             قطعة 110   \n",
       "23294         مخطط/945/ ش د                             قطعة 229   \n",
       "23295         مخطط/945/ ش د                             قطعة 278   \n",
       "23296         مخطط/945/ ش د                             قطعة 291   \n",
       "\n",
       "      تفاصيل الصفقات التاريخ_ميلادي  تفاصيل الصفقات (رقم الصفقة)  \\\n",
       "23292                    2011-12-04                      1500400   \n",
       "23293                    2011-12-18                      1514775   \n",
       "23294                    2011-12-27                      1525802   \n",
       "23295                    2011-12-17                      1513117   \n",
       "23296                    2011-12-03                      1498562   \n",
       "\n",
       "      السعر بالريال السعودي  Unnamed: 5 المساحة بالمتر المربع سعر المتر المربع  \n",
       "23292        ر.س. 3,000,000     3000000                945.00            3,175  \n",
       "23293        ر.س. 1,600,000     1600000              1,083.32            1,477  \n",
       "23294        ر.س. 1,705,000     1705000                922.00            1,849  \n",
       "23295        ر.س. 3,500,000     3500000                660.00            5,303  \n",
       "23296        ر.س. 1,020,000     1020000                600.00            1,700  "
      ]
     },
     "execution_count": 6,
     "metadata": {},
     "output_type": "execute_result"
    }
   ],
   "source": [
    "df.tail()"
   ]
  },
  {
   "cell_type": "code",
   "execution_count": 7,
   "metadata": {},
   "outputs": [
    {
     "data": {
      "text/plain": [
       "تفاصيل الصفقات المخطط                   object\n",
       "تفاصيل الصفقات عدد العقارات - القطعة    object\n",
       "تفاصيل الصفقات التاريخ_ميلادي           object\n",
       "تفاصيل الصفقات (رقم الصفقة)              int64\n",
       "السعر بالريال السعودي                   object\n",
       "Unnamed: 5                               int64\n",
       "المساحة بالمتر المربع                   object\n",
       "سعر المتر المربع                        object\n",
       "dtype: object"
      ]
     },
     "execution_count": 7,
     "metadata": {},
     "output_type": "execute_result"
    }
   ],
   "source": [
    "df.dtypes"
   ]
  },
  {
   "cell_type": "code",
   "execution_count": 8,
   "metadata": {},
   "outputs": [
    {
     "data": {
      "text/plain": [
       "array([    0,     1,     2, ..., 23294, 23295, 23296])"
      ]
     },
     "execution_count": 8,
     "metadata": {},
     "output_type": "execute_result"
    }
   ],
   "source": [
    "df.index.values"
   ]
  },
  {
   "cell_type": "code",
   "execution_count": 9,
   "metadata": {},
   "outputs": [],
   "source": [
    "df.drop('Unnamed: 5', axis=1 , inplace = True)"
   ]
  },
  {
   "cell_type": "code",
   "execution_count": 10,
   "metadata": {},
   "outputs": [
    {
     "data": {
      "text/plain": [
       "(23297, 7)"
      ]
     },
     "execution_count": 10,
     "metadata": {},
     "output_type": "execute_result"
    }
   ],
   "source": [
    "df.shape"
   ]
  },
  {
   "cell_type": "code",
   "execution_count": 11,
   "metadata": {},
   "outputs": [
    {
     "data": {
      "text/plain": [
       "تفاصيل الصفقات المخطط                   0\n",
       "تفاصيل الصفقات عدد العقارات - القطعة    0\n",
       "تفاصيل الصفقات التاريخ_ميلادي           0\n",
       "تفاصيل الصفقات (رقم الصفقة)             0\n",
       "السعر بالريال السعودي                   0\n",
       "المساحة بالمتر المربع                   0\n",
       "سعر المتر المربع                        0\n",
       "dtype: int64"
      ]
     },
     "execution_count": 11,
     "metadata": {},
     "output_type": "execute_result"
    }
   ],
   "source": [
    "df.isnull().sum()"
   ]
  },
  {
   "cell_type": "code",
   "execution_count": 12,
   "metadata": {},
   "outputs": [
    {
     "data": {
      "text/plain": [
       "تفاصيل الصفقات المخطط                   object\n",
       "تفاصيل الصفقات عدد العقارات - القطعة    object\n",
       "تفاصيل الصفقات التاريخ_ميلادي           object\n",
       "تفاصيل الصفقات (رقم الصفقة)              int64\n",
       "السعر بالريال السعودي                   object\n",
       "المساحة بالمتر المربع                   object\n",
       "سعر المتر المربع                        object\n",
       "dtype: object"
      ]
     },
     "execution_count": 12,
     "metadata": {},
     "output_type": "execute_result"
    }
   ],
   "source": [
    "df.dtypes"
   ]
  },
  {
   "cell_type": "code",
   "execution_count": 13,
   "metadata": {},
   "outputs": [
    {
     "data": {
      "text/html": [
       "<div>\n",
       "<style scoped>\n",
       "    .dataframe tbody tr th:only-of-type {\n",
       "        vertical-align: middle;\n",
       "    }\n",
       "\n",
       "    .dataframe tbody tr th {\n",
       "        vertical-align: top;\n",
       "    }\n",
       "\n",
       "    .dataframe thead th {\n",
       "        text-align: right;\n",
       "    }\n",
       "</style>\n",
       "<table border=\"1\" class=\"dataframe\">\n",
       "  <thead>\n",
       "    <tr style=\"text-align: right;\">\n",
       "      <th></th>\n",
       "      <th>تفاصيل الصفقات المخطط</th>\n",
       "      <th>تفاصيل الصفقات عدد العقارات - القطعة</th>\n",
       "      <th>تفاصيل الصفقات التاريخ_ميلادي</th>\n",
       "      <th>تفاصيل الصفقات (رقم الصفقة)</th>\n",
       "      <th>السعر بالريال السعودي</th>\n",
       "      <th>المساحة بالمتر المربع</th>\n",
       "      <th>سعر المتر المربع</th>\n",
       "    </tr>\n",
       "  </thead>\n",
       "  <tbody>\n",
       "    <tr>\n",
       "      <th>0</th>\n",
       "      <td>مخطط/2509</td>\n",
       "      <td>قطعة 4401/2</td>\n",
       "      <td>2011-10-18</td>\n",
       "      <td>1457889</td>\n",
       "      <td>ر.س. 370,000</td>\n",
       "      <td>480.00</td>\n",
       "      <td>771</td>\n",
       "    </tr>\n",
       "    <tr>\n",
       "      <th>1</th>\n",
       "      <td>مخطط/2509</td>\n",
       "      <td>قطعة 4402/1</td>\n",
       "      <td>2011-10-17</td>\n",
       "      <td>1455745</td>\n",
       "      <td>ر.س. 360,000</td>\n",
       "      <td>480.00</td>\n",
       "      <td>750</td>\n",
       "    </tr>\n",
       "    <tr>\n",
       "      <th>2</th>\n",
       "      <td>مخطط/2509</td>\n",
       "      <td>قطعة 4409/1</td>\n",
       "      <td>2011-10-30</td>\n",
       "      <td>1473217</td>\n",
       "      <td>ر.س. 390,000</td>\n",
       "      <td>520.00</td>\n",
       "      <td>750</td>\n",
       "    </tr>\n",
       "    <tr>\n",
       "      <th>3</th>\n",
       "      <td>مخطط/2509</td>\n",
       "      <td>قطعة 4453/2</td>\n",
       "      <td>2011-10-12</td>\n",
       "      <td>1449976</td>\n",
       "      <td>ر.س. 370,000</td>\n",
       "      <td>510.00</td>\n",
       "      <td>725</td>\n",
       "    </tr>\n",
       "    <tr>\n",
       "      <th>4</th>\n",
       "      <td>مخطط/2509</td>\n",
       "      <td>قطعة 4455/1</td>\n",
       "      <td>2011-10-23</td>\n",
       "      <td>1463784</td>\n",
       "      <td>ر.س. 370,000</td>\n",
       "      <td>510.00</td>\n",
       "      <td>725</td>\n",
       "    </tr>\n",
       "  </tbody>\n",
       "</table>\n",
       "</div>"
      ],
      "text/plain": [
       "  تفاصيل الصفقات المخطط تفاصيل الصفقات عدد العقارات - القطعة  \\\n",
       "0             مخطط/2509                          قطعة 4401/2   \n",
       "1             مخطط/2509                          قطعة 4402/1   \n",
       "2             مخطط/2509                          قطعة 4409/1   \n",
       "3             مخطط/2509                          قطعة 4453/2   \n",
       "4             مخطط/2509                          قطعة 4455/1   \n",
       "\n",
       "  تفاصيل الصفقات التاريخ_ميلادي  تفاصيل الصفقات (رقم الصفقة)  \\\n",
       "0                    2011-10-18                      1457889   \n",
       "1                    2011-10-17                      1455745   \n",
       "2                    2011-10-30                      1473217   \n",
       "3                    2011-10-12                      1449976   \n",
       "4                    2011-10-23                      1463784   \n",
       "\n",
       "  السعر بالريال السعودي المساحة بالمتر المربع سعر المتر المربع  \n",
       "0          ر.س. 370,000                480.00              771  \n",
       "1          ر.س. 360,000                480.00              750  \n",
       "2          ر.س. 390,000                520.00              750  \n",
       "3          ر.س. 370,000                510.00              725  \n",
       "4          ر.س. 370,000                510.00              725  "
      ]
     },
     "execution_count": 13,
     "metadata": {},
     "output_type": "execute_result"
    }
   ],
   "source": [
    "df.head()"
   ]
  },
  {
   "cell_type": "markdown",
   "metadata": {},
   "source": [
    "### insert price column"
   ]
  },
  {
   "cell_type": "code",
   "execution_count": 14,
   "metadata": {},
   "outputs": [
    {
     "data": {
      "text/html": [
       "<div>\n",
       "<style scoped>\n",
       "    .dataframe tbody tr th:only-of-type {\n",
       "        vertical-align: middle;\n",
       "    }\n",
       "\n",
       "    .dataframe tbody tr th {\n",
       "        vertical-align: top;\n",
       "    }\n",
       "\n",
       "    .dataframe thead th {\n",
       "        text-align: right;\n",
       "    }\n",
       "</style>\n",
       "<table border=\"1\" class=\"dataframe\">\n",
       "  <thead>\n",
       "    <tr style=\"text-align: right;\">\n",
       "      <th></th>\n",
       "      <th>تفاصيل الصفقات المخطط</th>\n",
       "      <th>تفاصيل الصفقات عدد العقارات - القطعة</th>\n",
       "      <th>تفاصيل الصفقات التاريخ_ميلادي</th>\n",
       "      <th>تفاصيل الصفقات (رقم الصفقة)</th>\n",
       "      <th>السعر بالريال السعودي</th>\n",
       "      <th>المساحة بالمتر المربع</th>\n",
       "      <th>سعر المتر المربع</th>\n",
       "    </tr>\n",
       "  </thead>\n",
       "  <tbody>\n",
       "    <tr>\n",
       "      <th>0</th>\n",
       "      <td>مخطط/2509</td>\n",
       "      <td>قطعة 4401/2</td>\n",
       "      <td>2011-10-18</td>\n",
       "      <td>1457889</td>\n",
       "      <td>ر.س. 370,000</td>\n",
       "      <td>480.00</td>\n",
       "      <td>771</td>\n",
       "    </tr>\n",
       "    <tr>\n",
       "      <th>1</th>\n",
       "      <td>مخطط/2509</td>\n",
       "      <td>قطعة 4402/1</td>\n",
       "      <td>2011-10-17</td>\n",
       "      <td>1455745</td>\n",
       "      <td>ر.س. 360,000</td>\n",
       "      <td>480.00</td>\n",
       "      <td>750</td>\n",
       "    </tr>\n",
       "    <tr>\n",
       "      <th>2</th>\n",
       "      <td>مخطط/2509</td>\n",
       "      <td>قطعة 4409/1</td>\n",
       "      <td>2011-10-30</td>\n",
       "      <td>1473217</td>\n",
       "      <td>ر.س. 390,000</td>\n",
       "      <td>520.00</td>\n",
       "      <td>750</td>\n",
       "    </tr>\n",
       "    <tr>\n",
       "      <th>3</th>\n",
       "      <td>مخطط/2509</td>\n",
       "      <td>قطعة 4453/2</td>\n",
       "      <td>2011-10-12</td>\n",
       "      <td>1449976</td>\n",
       "      <td>ر.س. 370,000</td>\n",
       "      <td>510.00</td>\n",
       "      <td>725</td>\n",
       "    </tr>\n",
       "    <tr>\n",
       "      <th>4</th>\n",
       "      <td>مخطط/2509</td>\n",
       "      <td>قطعة 4455/1</td>\n",
       "      <td>2011-10-23</td>\n",
       "      <td>1463784</td>\n",
       "      <td>ر.س. 370,000</td>\n",
       "      <td>510.00</td>\n",
       "      <td>725</td>\n",
       "    </tr>\n",
       "  </tbody>\n",
       "</table>\n",
       "</div>"
      ],
      "text/plain": [
       "  تفاصيل الصفقات المخطط تفاصيل الصفقات عدد العقارات - القطعة  \\\n",
       "0             مخطط/2509                          قطعة 4401/2   \n",
       "1             مخطط/2509                          قطعة 4402/1   \n",
       "2             مخطط/2509                          قطعة 4409/1   \n",
       "3             مخطط/2509                          قطعة 4453/2   \n",
       "4             مخطط/2509                          قطعة 4455/1   \n",
       "\n",
       "  تفاصيل الصفقات التاريخ_ميلادي  تفاصيل الصفقات (رقم الصفقة)  \\\n",
       "0                    2011-10-18                      1457889   \n",
       "1                    2011-10-17                      1455745   \n",
       "2                    2011-10-30                      1473217   \n",
       "3                    2011-10-12                      1449976   \n",
       "4                    2011-10-23                      1463784   \n",
       "\n",
       "  السعر بالريال السعودي المساحة بالمتر المربع سعر المتر المربع  \n",
       "0          ر.س. 370,000                480.00              771  \n",
       "1          ر.س. 360,000                480.00              750  \n",
       "2          ر.س. 390,000                520.00              750  \n",
       "3          ر.س. 370,000                510.00              725  \n",
       "4          ر.س. 370,000                510.00              725  "
      ]
     },
     "execution_count": 14,
     "metadata": {},
     "output_type": "execute_result"
    }
   ],
   "source": [
    "# rename all columns\n",
    "df.head()"
   ]
  },
  {
   "cell_type": "code",
   "execution_count": 15,
   "metadata": {},
   "outputs": [],
   "source": [
    "df.rename({'سعر المتر المربع' : 'Price_of_meter', 'السعر بالريال السعودي' : 'Price_in_SR',\n",
    "            'المساحة بالمتر المربع' : 'Space_in_meter' , 'تفاصيل الصفقات (رقم الصفقة)': 'Number_of_Transaction' ,\n",
    "             'تفاصيل الصفقات التاريخ_ميلادي' : 'Date' , 'تفاصيل الصفقات عدد العقارات - القطعة' : ' Number_of_pice' ,\n",
    "             'تفاصيل الصفقات المخطط' : 'Transaction_details' }, axis = 1 , inplace = True)"
   ]
  },
  {
   "cell_type": "code",
   "execution_count": 16,
   "metadata": {},
   "outputs": [
    {
     "data": {
      "text/html": [
       "<div>\n",
       "<style scoped>\n",
       "    .dataframe tbody tr th:only-of-type {\n",
       "        vertical-align: middle;\n",
       "    }\n",
       "\n",
       "    .dataframe tbody tr th {\n",
       "        vertical-align: top;\n",
       "    }\n",
       "\n",
       "    .dataframe thead th {\n",
       "        text-align: right;\n",
       "    }\n",
       "</style>\n",
       "<table border=\"1\" class=\"dataframe\">\n",
       "  <thead>\n",
       "    <tr style=\"text-align: right;\">\n",
       "      <th></th>\n",
       "      <th>Transaction_details</th>\n",
       "      <th>Number_of_pice</th>\n",
       "      <th>Date</th>\n",
       "      <th>Number_of_Transaction</th>\n",
       "      <th>Price_in_SR</th>\n",
       "      <th>Space_in_meter</th>\n",
       "      <th>Price_of_meter</th>\n",
       "    </tr>\n",
       "  </thead>\n",
       "  <tbody>\n",
       "    <tr>\n",
       "      <th>0</th>\n",
       "      <td>مخطط/2509</td>\n",
       "      <td>قطعة 4401/2</td>\n",
       "      <td>2011-10-18</td>\n",
       "      <td>1457889</td>\n",
       "      <td>ر.س. 370,000</td>\n",
       "      <td>480.00</td>\n",
       "      <td>771</td>\n",
       "    </tr>\n",
       "    <tr>\n",
       "      <th>1</th>\n",
       "      <td>مخطط/2509</td>\n",
       "      <td>قطعة 4402/1</td>\n",
       "      <td>2011-10-17</td>\n",
       "      <td>1455745</td>\n",
       "      <td>ر.س. 360,000</td>\n",
       "      <td>480.00</td>\n",
       "      <td>750</td>\n",
       "    </tr>\n",
       "    <tr>\n",
       "      <th>2</th>\n",
       "      <td>مخطط/2509</td>\n",
       "      <td>قطعة 4409/1</td>\n",
       "      <td>2011-10-30</td>\n",
       "      <td>1473217</td>\n",
       "      <td>ر.س. 390,000</td>\n",
       "      <td>520.00</td>\n",
       "      <td>750</td>\n",
       "    </tr>\n",
       "    <tr>\n",
       "      <th>3</th>\n",
       "      <td>مخطط/2509</td>\n",
       "      <td>قطعة 4453/2</td>\n",
       "      <td>2011-10-12</td>\n",
       "      <td>1449976</td>\n",
       "      <td>ر.س. 370,000</td>\n",
       "      <td>510.00</td>\n",
       "      <td>725</td>\n",
       "    </tr>\n",
       "    <tr>\n",
       "      <th>4</th>\n",
       "      <td>مخطط/2509</td>\n",
       "      <td>قطعة 4455/1</td>\n",
       "      <td>2011-10-23</td>\n",
       "      <td>1463784</td>\n",
       "      <td>ر.س. 370,000</td>\n",
       "      <td>510.00</td>\n",
       "      <td>725</td>\n",
       "    </tr>\n",
       "  </tbody>\n",
       "</table>\n",
       "</div>"
      ],
      "text/plain": [
       "  Transaction_details  Number_of_pice        Date  Number_of_Transaction  \\\n",
       "0           مخطط/2509     قطعة 4401/2  2011-10-18                1457889   \n",
       "1           مخطط/2509     قطعة 4402/1  2011-10-17                1455745   \n",
       "2           مخطط/2509     قطعة 4409/1  2011-10-30                1473217   \n",
       "3           مخطط/2509     قطعة 4453/2  2011-10-12                1449976   \n",
       "4           مخطط/2509     قطعة 4455/1  2011-10-23                1463784   \n",
       "\n",
       "    Price_in_SR Space_in_meter Price_of_meter  \n",
       "0  ر.س. 370,000         480.00            771  \n",
       "1  ر.س. 360,000         480.00            750  \n",
       "2  ر.س. 390,000         520.00            750  \n",
       "3  ر.س. 370,000         510.00            725  \n",
       "4  ر.س. 370,000         510.00            725  "
      ]
     },
     "execution_count": 16,
     "metadata": {},
     "output_type": "execute_result"
    }
   ],
   "source": [
    "df.head()"
   ]
  },
  {
   "cell_type": "code",
   "execution_count": 17,
   "metadata": {},
   "outputs": [
    {
     "data": {
      "text/html": [
       "<div>\n",
       "<style scoped>\n",
       "    .dataframe tbody tr th:only-of-type {\n",
       "        vertical-align: middle;\n",
       "    }\n",
       "\n",
       "    .dataframe tbody tr th {\n",
       "        vertical-align: top;\n",
       "    }\n",
       "\n",
       "    .dataframe thead th {\n",
       "        text-align: right;\n",
       "    }\n",
       "</style>\n",
       "<table border=\"1\" class=\"dataframe\">\n",
       "  <thead>\n",
       "    <tr style=\"text-align: right;\">\n",
       "      <th></th>\n",
       "      <th>Transaction_details</th>\n",
       "      <th>Number_of_pice</th>\n",
       "      <th>Date</th>\n",
       "      <th>Number_of_Transaction</th>\n",
       "      <th>Price_in_SR</th>\n",
       "      <th>Space_in_meter</th>\n",
       "      <th>Price_of_meter</th>\n",
       "      <th>PriceT</th>\n",
       "    </tr>\n",
       "  </thead>\n",
       "  <tbody>\n",
       "    <tr>\n",
       "      <th>0</th>\n",
       "      <td>مخطط/2509</td>\n",
       "      <td>قطعة 4401/2</td>\n",
       "      <td>2011-10-18</td>\n",
       "      <td>1457889</td>\n",
       "      <td>ر.س. 370,000</td>\n",
       "      <td>480.00</td>\n",
       "      <td>771</td>\n",
       "      <td>370,000</td>\n",
       "    </tr>\n",
       "    <tr>\n",
       "      <th>1</th>\n",
       "      <td>مخطط/2509</td>\n",
       "      <td>قطعة 4402/1</td>\n",
       "      <td>2011-10-17</td>\n",
       "      <td>1455745</td>\n",
       "      <td>ر.س. 360,000</td>\n",
       "      <td>480.00</td>\n",
       "      <td>750</td>\n",
       "      <td>360,000</td>\n",
       "    </tr>\n",
       "    <tr>\n",
       "      <th>2</th>\n",
       "      <td>مخطط/2509</td>\n",
       "      <td>قطعة 4409/1</td>\n",
       "      <td>2011-10-30</td>\n",
       "      <td>1473217</td>\n",
       "      <td>ر.س. 390,000</td>\n",
       "      <td>520.00</td>\n",
       "      <td>750</td>\n",
       "      <td>390,000</td>\n",
       "    </tr>\n",
       "    <tr>\n",
       "      <th>3</th>\n",
       "      <td>مخطط/2509</td>\n",
       "      <td>قطعة 4453/2</td>\n",
       "      <td>2011-10-12</td>\n",
       "      <td>1449976</td>\n",
       "      <td>ر.س. 370,000</td>\n",
       "      <td>510.00</td>\n",
       "      <td>725</td>\n",
       "      <td>370,000</td>\n",
       "    </tr>\n",
       "    <tr>\n",
       "      <th>4</th>\n",
       "      <td>مخطط/2509</td>\n",
       "      <td>قطعة 4455/1</td>\n",
       "      <td>2011-10-23</td>\n",
       "      <td>1463784</td>\n",
       "      <td>ر.س. 370,000</td>\n",
       "      <td>510.00</td>\n",
       "      <td>725</td>\n",
       "      <td>370,000</td>\n",
       "    </tr>\n",
       "  </tbody>\n",
       "</table>\n",
       "</div>"
      ],
      "text/plain": [
       "  Transaction_details  Number_of_pice        Date  Number_of_Transaction  \\\n",
       "0           مخطط/2509     قطعة 4401/2  2011-10-18                1457889   \n",
       "1           مخطط/2509     قطعة 4402/1  2011-10-17                1455745   \n",
       "2           مخطط/2509     قطعة 4409/1  2011-10-30                1473217   \n",
       "3           مخطط/2509     قطعة 4453/2  2011-10-12                1449976   \n",
       "4           مخطط/2509     قطعة 4455/1  2011-10-23                1463784   \n",
       "\n",
       "    Price_in_SR Space_in_meter Price_of_meter    PriceT  \n",
       "0  ر.س. 370,000         480.00            771   370,000  \n",
       "1  ر.س. 360,000         480.00            750   360,000  \n",
       "2  ر.س. 390,000         520.00            750   390,000  \n",
       "3  ر.س. 370,000         510.00            725   370,000  \n",
       "4  ر.س. 370,000         510.00            725   370,000  "
      ]
     },
     "execution_count": 17,
     "metadata": {},
     "output_type": "execute_result"
    }
   ],
   "source": [
    "df['PriceT'] = df['Price_in_SR'].apply(lambda x: x.split('.')[2] ) # added the Price column\n",
    "\n",
    "\n",
    "#136 Church St, New York City, NY 10001\t\n",
    "#all_data['City'] = all_data['Purchase Address'].apply(lambda x: x.split(',')[1] + ' (' + x.split(',')[2].split(' ')[1] + ')') # added the city column\n",
    "\n",
    "\n",
    "df.head()\n"
   ]
  },
  {
   "cell_type": "code",
   "execution_count": null,
   "metadata": {},
   "outputs": [],
   "source": [
    "df.loc[df['Space_in_meter'] == '7,500.00']\n",
    "\n"
   ]
  },
  {
   "cell_type": "code",
   "execution_count": 19,
   "metadata": {},
   "outputs": [],
   "source": [
    "df['PriceT'].replace(',','', regex=True, inplace=True)\n"
   ]
  },
  {
   "cell_type": "code",
   "execution_count": 20,
   "metadata": {},
   "outputs": [
    {
     "data": {
      "text/html": [
       "<div>\n",
       "<style scoped>\n",
       "    .dataframe tbody tr th:only-of-type {\n",
       "        vertical-align: middle;\n",
       "    }\n",
       "\n",
       "    .dataframe tbody tr th {\n",
       "        vertical-align: top;\n",
       "    }\n",
       "\n",
       "    .dataframe thead th {\n",
       "        text-align: right;\n",
       "    }\n",
       "</style>\n",
       "<table border=\"1\" class=\"dataframe\">\n",
       "  <thead>\n",
       "    <tr style=\"text-align: right;\">\n",
       "      <th></th>\n",
       "      <th>Transaction_details</th>\n",
       "      <th>Number_of_pice</th>\n",
       "      <th>Date</th>\n",
       "      <th>Number_of_Transaction</th>\n",
       "      <th>Price_in_SR</th>\n",
       "      <th>Space_in_meter</th>\n",
       "      <th>Price_of_meter</th>\n",
       "      <th>PriceT</th>\n",
       "    </tr>\n",
       "  </thead>\n",
       "  <tbody>\n",
       "    <tr>\n",
       "      <th>0</th>\n",
       "      <td>مخطط/2509</td>\n",
       "      <td>قطعة 4401/2</td>\n",
       "      <td>2011-10-18</td>\n",
       "      <td>1457889</td>\n",
       "      <td>ر.س. 370,000</td>\n",
       "      <td>480.00</td>\n",
       "      <td>771</td>\n",
       "      <td>370000</td>\n",
       "    </tr>\n",
       "    <tr>\n",
       "      <th>1</th>\n",
       "      <td>مخطط/2509</td>\n",
       "      <td>قطعة 4402/1</td>\n",
       "      <td>2011-10-17</td>\n",
       "      <td>1455745</td>\n",
       "      <td>ر.س. 360,000</td>\n",
       "      <td>480.00</td>\n",
       "      <td>750</td>\n",
       "      <td>360000</td>\n",
       "    </tr>\n",
       "    <tr>\n",
       "      <th>2</th>\n",
       "      <td>مخطط/2509</td>\n",
       "      <td>قطعة 4409/1</td>\n",
       "      <td>2011-10-30</td>\n",
       "      <td>1473217</td>\n",
       "      <td>ر.س. 390,000</td>\n",
       "      <td>520.00</td>\n",
       "      <td>750</td>\n",
       "      <td>390000</td>\n",
       "    </tr>\n",
       "    <tr>\n",
       "      <th>3</th>\n",
       "      <td>مخطط/2509</td>\n",
       "      <td>قطعة 4453/2</td>\n",
       "      <td>2011-10-12</td>\n",
       "      <td>1449976</td>\n",
       "      <td>ر.س. 370,000</td>\n",
       "      <td>510.00</td>\n",
       "      <td>725</td>\n",
       "      <td>370000</td>\n",
       "    </tr>\n",
       "    <tr>\n",
       "      <th>4</th>\n",
       "      <td>مخطط/2509</td>\n",
       "      <td>قطعة 4455/1</td>\n",
       "      <td>2011-10-23</td>\n",
       "      <td>1463784</td>\n",
       "      <td>ر.س. 370,000</td>\n",
       "      <td>510.00</td>\n",
       "      <td>725</td>\n",
       "      <td>370000</td>\n",
       "    </tr>\n",
       "  </tbody>\n",
       "</table>\n",
       "</div>"
      ],
      "text/plain": [
       "  Transaction_details  Number_of_pice        Date  Number_of_Transaction  \\\n",
       "0           مخطط/2509     قطعة 4401/2  2011-10-18                1457889   \n",
       "1           مخطط/2509     قطعة 4402/1  2011-10-17                1455745   \n",
       "2           مخطط/2509     قطعة 4409/1  2011-10-30                1473217   \n",
       "3           مخطط/2509     قطعة 4453/2  2011-10-12                1449976   \n",
       "4           مخطط/2509     قطعة 4455/1  2011-10-23                1463784   \n",
       "\n",
       "    Price_in_SR Space_in_meter Price_of_meter   PriceT  \n",
       "0  ر.س. 370,000         480.00            771   370000  \n",
       "1  ر.س. 360,000         480.00            750   360000  \n",
       "2  ر.س. 390,000         520.00            750   390000  \n",
       "3  ر.س. 370,000         510.00            725   370000  \n",
       "4  ر.س. 370,000         510.00            725   370000  "
      ]
     },
     "execution_count": 20,
     "metadata": {},
     "output_type": "execute_result"
    }
   ],
   "source": [
    "df.head()"
   ]
  },
  {
   "cell_type": "code",
   "execution_count": 21,
   "metadata": {},
   "outputs": [
    {
     "data": {
      "text/html": [
       "<div>\n",
       "<style scoped>\n",
       "    .dataframe tbody tr th:only-of-type {\n",
       "        vertical-align: middle;\n",
       "    }\n",
       "\n",
       "    .dataframe tbody tr th {\n",
       "        vertical-align: top;\n",
       "    }\n",
       "\n",
       "    .dataframe thead th {\n",
       "        text-align: right;\n",
       "    }\n",
       "</style>\n",
       "<table border=\"1\" class=\"dataframe\">\n",
       "  <thead>\n",
       "    <tr style=\"text-align: right;\">\n",
       "      <th></th>\n",
       "      <th>Transaction_details</th>\n",
       "      <th>Number_of_pice</th>\n",
       "      <th>Date</th>\n",
       "      <th>Number_of_Transaction</th>\n",
       "      <th>Price_in_SR</th>\n",
       "      <th>Space_in_meter</th>\n",
       "      <th>Price_of_meter</th>\n",
       "      <th>PriceT</th>\n",
       "    </tr>\n",
       "  </thead>\n",
       "  <tbody>\n",
       "  </tbody>\n",
       "</table>\n",
       "</div>"
      ],
      "text/plain": [
       "Empty DataFrame\n",
       "Columns: [Transaction_details,  Number_of_pice, Date, Number_of_Transaction, Price_in_SR, Space_in_meter, Price_of_meter, PriceT]\n",
       "Index: []"
      ]
     },
     "execution_count": 21,
     "metadata": {},
     "output_type": "execute_result"
    }
   ],
   "source": [
    "df.loc[df['Space_in_meter'] == '7500.00']\n",
    "\n"
   ]
  },
  {
   "cell_type": "code",
   "execution_count": null,
   "metadata": {},
   "outputs": [],
   "source": [
    "#df['Price']= df['PriceT'].apply(lambda x: x.split(',')[0] + x.split(',')[1] + x.split(',')[2])\n",
    "\n",
    "#df.head()"
   ]
  },
  {
   "cell_type": "code",
   "execution_count": null,
   "metadata": {},
   "outputs": [],
   "source": [
    "# Detecting numbers \n",
    "cnt=0\n",
    "for row in df['Price']:\n",
    "    try:\n",
    "        int(row)\n",
    "        #df.loc[cnt, 'Price']=np.nan\n",
    "    except ValueError:\n",
    "        pass\n",
    "    cnt+=1"
   ]
  },
  {
   "cell_type": "code",
   "execution_count": 22,
   "metadata": {},
   "outputs": [
    {
     "data": {
      "text/plain": [
       "Transaction_details      0\n",
       " Number_of_pice          0\n",
       "Date                     0\n",
       "Number_of_Transaction    0\n",
       "Price_in_SR              0\n",
       "Space_in_meter           0\n",
       "Price_of_meter           0\n",
       "PriceT                   0\n",
       "dtype: int64"
      ]
     },
     "execution_count": 22,
     "metadata": {},
     "output_type": "execute_result"
    }
   ],
   "source": [
    "df.isnull().sum()"
   ]
  },
  {
   "cell_type": "code",
   "execution_count": 23,
   "metadata": {},
   "outputs": [
    {
     "data": {
      "text/plain": [
       "Transaction_details      object\n",
       " Number_of_pice          object\n",
       "Date                     object\n",
       "Number_of_Transaction     int64\n",
       "Price_in_SR              object\n",
       "Space_in_meter           object\n",
       "Price_of_meter           object\n",
       "PriceT                   object\n",
       "dtype: object"
      ]
     },
     "execution_count": 23,
     "metadata": {},
     "output_type": "execute_result"
    }
   ],
   "source": [
    "df.dtypes"
   ]
  },
  {
   "cell_type": "code",
   "execution_count": 24,
   "metadata": {},
   "outputs": [],
   "source": [
    "df['PriceT'] = df['PriceT'].astype(int)"
   ]
  },
  {
   "cell_type": "code",
   "execution_count": 25,
   "metadata": {},
   "outputs": [
    {
     "data": {
      "text/plain": [
       "Transaction_details      object\n",
       " Number_of_pice          object\n",
       "Date                     object\n",
       "Number_of_Transaction     int64\n",
       "Price_in_SR              object\n",
       "Space_in_meter           object\n",
       "Price_of_meter           object\n",
       "PriceT                    int64\n",
       "dtype: object"
      ]
     },
     "execution_count": 25,
     "metadata": {},
     "output_type": "execute_result"
    }
   ],
   "source": [
    "df.dtypes"
   ]
  },
  {
   "cell_type": "code",
   "execution_count": null,
   "metadata": {},
   "outputs": [],
   "source": [
    "#df['Space_in_meter'] = df['Space_in_meter'].astype(int)\n",
    "\n",
    "#map(float,df['Space_in_meter'].split(','))\n"
   ]
  },
  {
   "cell_type": "code",
   "execution_count": 27,
   "metadata": {},
   "outputs": [],
   "source": [
    "df['Space_in_meter'].replace(',','', regex=True, inplace=True)\n"
   ]
  },
  {
   "cell_type": "code",
   "execution_count": null,
   "metadata": {},
   "outputs": [],
   "source": []
  },
  {
   "cell_type": "code",
   "execution_count": 28,
   "metadata": {},
   "outputs": [
    {
     "data": {
      "text/html": [
       "<div>\n",
       "<style scoped>\n",
       "    .dataframe tbody tr th:only-of-type {\n",
       "        vertical-align: middle;\n",
       "    }\n",
       "\n",
       "    .dataframe tbody tr th {\n",
       "        vertical-align: top;\n",
       "    }\n",
       "\n",
       "    .dataframe thead th {\n",
       "        text-align: right;\n",
       "    }\n",
       "</style>\n",
       "<table border=\"1\" class=\"dataframe\">\n",
       "  <thead>\n",
       "    <tr style=\"text-align: right;\">\n",
       "      <th></th>\n",
       "      <th>Transaction_details</th>\n",
       "      <th>Number_of_pice</th>\n",
       "      <th>Date</th>\n",
       "      <th>Number_of_Transaction</th>\n",
       "      <th>Price_in_SR</th>\n",
       "      <th>Space_in_meter</th>\n",
       "      <th>Price_of_meter</th>\n",
       "      <th>PriceT</th>\n",
       "    </tr>\n",
       "  </thead>\n",
       "  <tbody>\n",
       "    <tr>\n",
       "      <th>0</th>\n",
       "      <td>مخطط/2509</td>\n",
       "      <td>قطعة 4401/2</td>\n",
       "      <td>2011-10-18</td>\n",
       "      <td>1457889</td>\n",
       "      <td>ر.س. 370,000</td>\n",
       "      <td>480.0</td>\n",
       "      <td>771</td>\n",
       "      <td>370000</td>\n",
       "    </tr>\n",
       "    <tr>\n",
       "      <th>1</th>\n",
       "      <td>مخطط/2509</td>\n",
       "      <td>قطعة 4402/1</td>\n",
       "      <td>2011-10-17</td>\n",
       "      <td>1455745</td>\n",
       "      <td>ر.س. 360,000</td>\n",
       "      <td>480.0</td>\n",
       "      <td>750</td>\n",
       "      <td>360000</td>\n",
       "    </tr>\n",
       "    <tr>\n",
       "      <th>2</th>\n",
       "      <td>مخطط/2509</td>\n",
       "      <td>قطعة 4409/1</td>\n",
       "      <td>2011-10-30</td>\n",
       "      <td>1473217</td>\n",
       "      <td>ر.س. 390,000</td>\n",
       "      <td>520.0</td>\n",
       "      <td>750</td>\n",
       "      <td>390000</td>\n",
       "    </tr>\n",
       "    <tr>\n",
       "      <th>3</th>\n",
       "      <td>مخطط/2509</td>\n",
       "      <td>قطعة 4453/2</td>\n",
       "      <td>2011-10-12</td>\n",
       "      <td>1449976</td>\n",
       "      <td>ر.س. 370,000</td>\n",
       "      <td>510.0</td>\n",
       "      <td>725</td>\n",
       "      <td>370000</td>\n",
       "    </tr>\n",
       "    <tr>\n",
       "      <th>4</th>\n",
       "      <td>مخطط/2509</td>\n",
       "      <td>قطعة 4455/1</td>\n",
       "      <td>2011-10-23</td>\n",
       "      <td>1463784</td>\n",
       "      <td>ر.س. 370,000</td>\n",
       "      <td>510.0</td>\n",
       "      <td>725</td>\n",
       "      <td>370000</td>\n",
       "    </tr>\n",
       "  </tbody>\n",
       "</table>\n",
       "</div>"
      ],
      "text/plain": [
       "  Transaction_details  Number_of_pice        Date  Number_of_Transaction  \\\n",
       "0           مخطط/2509     قطعة 4401/2  2011-10-18                1457889   \n",
       "1           مخطط/2509     قطعة 4402/1  2011-10-17                1455745   \n",
       "2           مخطط/2509     قطعة 4409/1  2011-10-30                1473217   \n",
       "3           مخطط/2509     قطعة 4453/2  2011-10-12                1449976   \n",
       "4           مخطط/2509     قطعة 4455/1  2011-10-23                1463784   \n",
       "\n",
       "    Price_in_SR  Space_in_meter Price_of_meter  PriceT  \n",
       "0  ر.س. 370,000           480.0            771  370000  \n",
       "1  ر.س. 360,000           480.0            750  360000  \n",
       "2  ر.س. 390,000           520.0            750  390000  \n",
       "3  ر.س. 370,000           510.0            725  370000  \n",
       "4  ر.س. 370,000           510.0            725  370000  "
      ]
     },
     "execution_count": 28,
     "metadata": {},
     "output_type": "execute_result"
    }
   ],
   "source": [
    "df['Space_in_meter']= df['Space_in_meter'].astype(float)\n",
    "\n",
    "df.head()"
   ]
  },
  {
   "cell_type": "code",
   "execution_count": 31,
   "metadata": {},
   "outputs": [
    {
     "name": "stderr",
     "output_type": "stream",
     "text": [
      "/opt/anaconda3/lib/python3.8/site-packages/pandas/core/ops/array_ops.py:253: FutureWarning: elementwise comparison failed; returning scalar instead, but in the future will perform elementwise comparison\n",
      "  res_values = method(rvalues)\n"
     ]
    },
    {
     "data": {
      "text/html": [
       "<div>\n",
       "<style scoped>\n",
       "    .dataframe tbody tr th:only-of-type {\n",
       "        vertical-align: middle;\n",
       "    }\n",
       "\n",
       "    .dataframe tbody tr th {\n",
       "        vertical-align: top;\n",
       "    }\n",
       "\n",
       "    .dataframe thead th {\n",
       "        text-align: right;\n",
       "    }\n",
       "</style>\n",
       "<table border=\"1\" class=\"dataframe\">\n",
       "  <thead>\n",
       "    <tr style=\"text-align: right;\">\n",
       "      <th></th>\n",
       "      <th>Transaction_details</th>\n",
       "      <th>Number_of_pice</th>\n",
       "      <th>Date</th>\n",
       "      <th>Number_of_Transaction</th>\n",
       "      <th>Price_in_SR</th>\n",
       "      <th>Space_in_meter</th>\n",
       "      <th>Price_of_meter</th>\n",
       "      <th>PriceT</th>\n",
       "    </tr>\n",
       "  </thead>\n",
       "  <tbody>\n",
       "  </tbody>\n",
       "</table>\n",
       "</div>"
      ],
      "text/plain": [
       "Empty DataFrame\n",
       "Columns: [Transaction_details,  Number_of_pice, Date, Number_of_Transaction, Price_in_SR, Space_in_meter, Price_of_meter, PriceT]\n",
       "Index: []"
      ]
     },
     "execution_count": 31,
     "metadata": {},
     "output_type": "execute_result"
    }
   ],
   "source": [
    "#df.loc[df['Space_in_meter'] == '750000']\n",
    "\n"
   ]
  },
  {
   "cell_type": "code",
   "execution_count": 32,
   "metadata": {},
   "outputs": [
    {
     "data": {
      "text/plain": [
       "Transaction_details       object\n",
       " Number_of_pice           object\n",
       "Date                      object\n",
       "Number_of_Transaction      int64\n",
       "Price_in_SR               object\n",
       "Space_in_meter           float64\n",
       "Price_of_meter            object\n",
       "PriceT                     int64\n",
       "dtype: object"
      ]
     },
     "execution_count": 32,
     "metadata": {},
     "output_type": "execute_result"
    }
   ],
   "source": [
    "df.dtypes"
   ]
  },
  {
   "cell_type": "code",
   "execution_count": 33,
   "metadata": {
    "scrolled": true
   },
   "outputs": [
    {
     "data": {
      "text/html": [
       "<div>\n",
       "<style scoped>\n",
       "    .dataframe tbody tr th:only-of-type {\n",
       "        vertical-align: middle;\n",
       "    }\n",
       "\n",
       "    .dataframe tbody tr th {\n",
       "        vertical-align: top;\n",
       "    }\n",
       "\n",
       "    .dataframe thead th {\n",
       "        text-align: right;\n",
       "    }\n",
       "</style>\n",
       "<table border=\"1\" class=\"dataframe\">\n",
       "  <thead>\n",
       "    <tr style=\"text-align: right;\">\n",
       "      <th></th>\n",
       "      <th>Number_of_Transaction</th>\n",
       "      <th>Space_in_meter</th>\n",
       "      <th>PriceT</th>\n",
       "    </tr>\n",
       "  </thead>\n",
       "  <tbody>\n",
       "    <tr>\n",
       "      <th>count</th>\n",
       "      <td>2.329700e+04</td>\n",
       "      <td>2.329700e+04</td>\n",
       "      <td>2.329700e+04</td>\n",
       "    </tr>\n",
       "    <tr>\n",
       "      <th>mean</th>\n",
       "      <td>1.486662e+06</td>\n",
       "      <td>8.858856e+02</td>\n",
       "      <td>7.630624e+05</td>\n",
       "    </tr>\n",
       "    <tr>\n",
       "      <th>std</th>\n",
       "      <td>2.684792e+04</td>\n",
       "      <td>1.259245e+04</td>\n",
       "      <td>4.279320e+06</td>\n",
       "    </tr>\n",
       "    <tr>\n",
       "      <th>min</th>\n",
       "      <td>1.309605e+06</td>\n",
       "      <td>2.604000e+01</td>\n",
       "      <td>1.000000e+04</td>\n",
       "    </tr>\n",
       "    <tr>\n",
       "      <th>25%</th>\n",
       "      <td>1.465691e+06</td>\n",
       "      <td>4.500000e+02</td>\n",
       "      <td>2.050000e+05</td>\n",
       "    </tr>\n",
       "    <tr>\n",
       "      <th>50%</th>\n",
       "      <td>1.489273e+06</td>\n",
       "      <td>6.200000e+02</td>\n",
       "      <td>3.700000e+05</td>\n",
       "    </tr>\n",
       "    <tr>\n",
       "      <th>75%</th>\n",
       "      <td>1.508887e+06</td>\n",
       "      <td>8.750000e+02</td>\n",
       "      <td>8.000000e+05</td>\n",
       "    </tr>\n",
       "    <tr>\n",
       "      <th>max</th>\n",
       "      <td>1.529579e+06</td>\n",
       "      <td>1.854225e+06</td>\n",
       "      <td>5.562500e+08</td>\n",
       "    </tr>\n",
       "  </tbody>\n",
       "</table>\n",
       "</div>"
      ],
      "text/plain": [
       "       Number_of_Transaction  Space_in_meter        PriceT\n",
       "count           2.329700e+04    2.329700e+04  2.329700e+04\n",
       "mean            1.486662e+06    8.858856e+02  7.630624e+05\n",
       "std             2.684792e+04    1.259245e+04  4.279320e+06\n",
       "min             1.309605e+06    2.604000e+01  1.000000e+04\n",
       "25%             1.465691e+06    4.500000e+02  2.050000e+05\n",
       "50%             1.489273e+06    6.200000e+02  3.700000e+05\n",
       "75%             1.508887e+06    8.750000e+02  8.000000e+05\n",
       "max             1.529579e+06    1.854225e+06  5.562500e+08"
      ]
     },
     "execution_count": 33,
     "metadata": {},
     "output_type": "execute_result"
    }
   ],
   "source": [
    "df.describe()"
   ]
  },
  {
   "cell_type": "code",
   "execution_count": 35,
   "metadata": {},
   "outputs": [
    {
     "data": {
      "text/plain": [
       "Transaction_details       object\n",
       " Number_of_pice           object\n",
       "Date                      object\n",
       "Number_of_Transaction      int64\n",
       "Price_in_SR               object\n",
       "Space_in_meter           float64\n",
       "Price_of_meter            object\n",
       "PriceT                     int64\n",
       "dtype: object"
      ]
     },
     "execution_count": 35,
     "metadata": {},
     "output_type": "execute_result"
    }
   ],
   "source": [
    "df.dtypes"
   ]
  },
  {
   "cell_type": "code",
   "execution_count": 36,
   "metadata": {},
   "outputs": [
    {
     "name": "stdout",
     "output_type": "stream",
     "text": [
      "<class 'pandas.core.frame.DataFrame'>\n",
      "RangeIndex: 23297 entries, 0 to 23296\n",
      "Data columns (total 8 columns):\n",
      " #   Column                 Non-Null Count  Dtype  \n",
      "---  ------                 --------------  -----  \n",
      " 0   Transaction_details    23297 non-null  object \n",
      " 1    Number_of_pice        23297 non-null  object \n",
      " 2   Date                   23297 non-null  object \n",
      " 3   Number_of_Transaction  23297 non-null  int64  \n",
      " 4   Price_in_SR            23297 non-null  object \n",
      " 5   Space_in_meter         23297 non-null  float64\n",
      " 6   Price_of_meter         23297 non-null  object \n",
      " 7   PriceT                 23297 non-null  int64  \n",
      "dtypes: float64(1), int64(2), object(5)\n",
      "memory usage: 1.4+ MB\n"
     ]
    }
   ],
   "source": [
    "df.info()"
   ]
  },
  {
   "cell_type": "code",
   "execution_count": 38,
   "metadata": {},
   "outputs": [
    {
     "data": {
      "text/plain": [
       "556250000"
      ]
     },
     "execution_count": 38,
     "metadata": {},
     "output_type": "execute_result"
    }
   ],
   "source": [
    "df['PriceT'].max()"
   ]
  },
  {
   "cell_type": "code",
   "execution_count": null,
   "metadata": {},
   "outputs": [],
   "source": [
    "df.info()"
   ]
  },
  {
   "cell_type": "code",
   "execution_count": null,
   "metadata": {},
   "outputs": [],
   "source": [
    "df.describe()"
   ]
  },
  {
   "cell_type": "code",
   "execution_count": null,
   "metadata": {},
   "outputs": [],
   "source": []
  },
  {
   "cell_type": "code",
   "execution_count": 39,
   "metadata": {},
   "outputs": [
    {
     "data": {
      "text/plain": [
       "Transaction_details      0\n",
       " Number_of_pice          0\n",
       "Date                     0\n",
       "Number_of_Transaction    0\n",
       "Price_in_SR              0\n",
       "Space_in_meter           0\n",
       "Price_of_meter           0\n",
       "PriceT                   0\n",
       "dtype: int64"
      ]
     },
     "execution_count": 39,
     "metadata": {},
     "output_type": "execute_result"
    }
   ],
   "source": [
    "df.isnull().sum()"
   ]
  },
  {
   "cell_type": "markdown",
   "metadata": {},
   "source": [
    "## Second step is Data Analysis\n",
    "### Each scheme has a lot of pieces of land either they're land or building. We'll make an observation and take a look at each row in the same scheme included the information on their prices, dates, and area in the square meter. So, if there's an area that has the highest price compared to others in the same scheme this will be a building, and the others will be lands."
   ]
  },
  {
   "cell_type": "code",
   "execution_count": null,
   "metadata": {},
   "outputs": [],
   "source": [
    "df.info()"
   ]
  },
  {
   "cell_type": "code",
   "execution_count": null,
   "metadata": {},
   "outputs": [],
   "source": [
    "df.describe()"
   ]
  },
  {
   "cell_type": "code",
   "execution_count": 40,
   "metadata": {},
   "outputs": [
    {
     "data": {
      "text/html": [
       "<div>\n",
       "<style scoped>\n",
       "    .dataframe tbody tr th:only-of-type {\n",
       "        vertical-align: middle;\n",
       "    }\n",
       "\n",
       "    .dataframe tbody tr th {\n",
       "        vertical-align: top;\n",
       "    }\n",
       "\n",
       "    .dataframe thead th {\n",
       "        text-align: right;\n",
       "    }\n",
       "</style>\n",
       "<table border=\"1\" class=\"dataframe\">\n",
       "  <thead>\n",
       "    <tr style=\"text-align: right;\">\n",
       "      <th></th>\n",
       "      <th>Number_of_Transaction</th>\n",
       "      <th>Space_in_meter</th>\n",
       "      <th>PriceT</th>\n",
       "    </tr>\n",
       "  </thead>\n",
       "  <tbody>\n",
       "    <tr>\n",
       "      <th>Number_of_Transaction</th>\n",
       "      <td>1.000000</td>\n",
       "      <td>0.003793</td>\n",
       "      <td>0.017113</td>\n",
       "    </tr>\n",
       "    <tr>\n",
       "      <th>Space_in_meter</th>\n",
       "      <td>0.003793</td>\n",
       "      <td>1.000000</td>\n",
       "      <td>0.887303</td>\n",
       "    </tr>\n",
       "    <tr>\n",
       "      <th>PriceT</th>\n",
       "      <td>0.017113</td>\n",
       "      <td>0.887303</td>\n",
       "      <td>1.000000</td>\n",
       "    </tr>\n",
       "  </tbody>\n",
       "</table>\n",
       "</div>"
      ],
      "text/plain": [
       "                       Number_of_Transaction  Space_in_meter    PriceT\n",
       "Number_of_Transaction               1.000000        0.003793  0.017113\n",
       "Space_in_meter                      0.003793        1.000000  0.887303\n",
       "PriceT                              0.017113        0.887303  1.000000"
      ]
     },
     "execution_count": 40,
     "metadata": {},
     "output_type": "execute_result"
    }
   ],
   "source": [
    "df.corr()"
   ]
  },
  {
   "cell_type": "code",
   "execution_count": null,
   "metadata": {},
   "outputs": [],
   "source": [
    "df.head()"
   ]
  },
  {
   "cell_type": "code",
   "execution_count": 42,
   "metadata": {},
   "outputs": [],
   "source": [
    "sum_df = df.groupby(['Transaction_details', 'PriceT'])"
   ]
  },
  {
   "cell_type": "code",
   "execution_count": 43,
   "metadata": {},
   "outputs": [
    {
     "data": {
      "text/html": [
       "<div>\n",
       "<style scoped>\n",
       "    .dataframe tbody tr th:only-of-type {\n",
       "        vertical-align: middle;\n",
       "    }\n",
       "\n",
       "    .dataframe tbody tr th {\n",
       "        vertical-align: top;\n",
       "    }\n",
       "\n",
       "    .dataframe thead th {\n",
       "        text-align: right;\n",
       "    }\n",
       "</style>\n",
       "<table border=\"1\" class=\"dataframe\">\n",
       "  <thead>\n",
       "    <tr style=\"text-align: right;\">\n",
       "      <th></th>\n",
       "      <th></th>\n",
       "      <th>Number_of_pice</th>\n",
       "      <th>Date</th>\n",
       "      <th>Number_of_Transaction</th>\n",
       "      <th>Price_in_SR</th>\n",
       "      <th>Space_in_meter</th>\n",
       "      <th>Price_of_meter</th>\n",
       "    </tr>\n",
       "    <tr>\n",
       "      <th>Transaction_details</th>\n",
       "      <th>PriceT</th>\n",
       "      <th></th>\n",
       "      <th></th>\n",
       "      <th></th>\n",
       "      <th></th>\n",
       "      <th></th>\n",
       "      <th></th>\n",
       "    </tr>\n",
       "  </thead>\n",
       "  <tbody>\n",
       "    <tr>\n",
       "      <th>مخطط/.</th>\n",
       "      <th>6030000</th>\n",
       "      <td>قطعة 297</td>\n",
       "      <td>2011-12-11</td>\n",
       "      <td>1507383</td>\n",
       "      <td>ر.س. 6,030,000</td>\n",
       "      <td>1050.00</td>\n",
       "      <td>5,743</td>\n",
       "    </tr>\n",
       "    <tr>\n",
       "      <th rowspan=\"2\" valign=\"top\">مخطط/10</th>\n",
       "      <th>2000000</th>\n",
       "      <td>عدد العقارات 2-أول قطعة81</td>\n",
       "      <td>2011-11-23</td>\n",
       "      <td>1489187</td>\n",
       "      <td>ر.س. 2,000,000</td>\n",
       "      <td>4000.00</td>\n",
       "      <td>500</td>\n",
       "    </tr>\n",
       "    <tr>\n",
       "      <th>2187075</th>\n",
       "      <td>عدد العقارات 2-أول قطعة85</td>\n",
       "      <td>2011-11-23</td>\n",
       "      <td>1489181</td>\n",
       "      <td>ر.س. 2,187,075</td>\n",
       "      <td>4374.20</td>\n",
       "      <td>500</td>\n",
       "    </tr>\n",
       "    <tr>\n",
       "      <th rowspan=\"2\" valign=\"top\">مخطط/10/ ج/ س</th>\n",
       "      <th>1664000</th>\n",
       "      <td>قطعة 487/أ</td>\n",
       "      <td>2011-10-09</td>\n",
       "      <td>1444723</td>\n",
       "      <td>ر.س. 1,664,000</td>\n",
       "      <td>487.50</td>\n",
       "      <td>3,413</td>\n",
       "    </tr>\n",
       "    <tr>\n",
       "      <th>2050000</th>\n",
       "      <td>قطعة 790/ب</td>\n",
       "      <td>2011-10-16</td>\n",
       "      <td>1453941</td>\n",
       "      <td>ر.س. 2,050,000</td>\n",
       "      <td>330.00</td>\n",
       "      <td>6,212</td>\n",
       "    </tr>\n",
       "    <tr>\n",
       "      <th>...</th>\n",
       "      <th>...</th>\n",
       "      <td>...</td>\n",
       "      <td>...</td>\n",
       "      <td>...</td>\n",
       "      <td>...</td>\n",
       "      <td>...</td>\n",
       "      <td>...</td>\n",
       "    </tr>\n",
       "    <tr>\n",
       "      <th rowspan=\"5\" valign=\"top\">مخطط/مربعات</th>\n",
       "      <th>1065159</th>\n",
       "      <td>قطعة 111</td>\n",
       "      <td>2011-12-04</td>\n",
       "      <td>1500407</td>\n",
       "      <td>ر.س. 1,065,159</td>\n",
       "      <td>500.00</td>\n",
       "      <td>2,130</td>\n",
       "    </tr>\n",
       "    <tr>\n",
       "      <th>1150000</th>\n",
       "      <td>قطعة 124/1</td>\n",
       "      <td>2011-12-05</td>\n",
       "      <td>1501155</td>\n",
       "      <td>ر.س. 1,150,000</td>\n",
       "      <td>300.00</td>\n",
       "      <td>3,833</td>\n",
       "    </tr>\n",
       "    <tr>\n",
       "      <th>1175000</th>\n",
       "      <td>قطعة 116/1</td>\n",
       "      <td>2011-11-28</td>\n",
       "      <td>1492961</td>\n",
       "      <td>ر.س. 1,175,000</td>\n",
       "      <td>325.00</td>\n",
       "      <td>3,615</td>\n",
       "    </tr>\n",
       "    <tr>\n",
       "      <th>1690000</th>\n",
       "      <td>قطعة 76</td>\n",
       "      <td>2011-12-17</td>\n",
       "      <td>1513463</td>\n",
       "      <td>ر.س. 1,690,000</td>\n",
       "      <td>500.00</td>\n",
       "      <td>3,380</td>\n",
       "    </tr>\n",
       "    <tr>\n",
       "      <th>1770000</th>\n",
       "      <td>قطعة 94</td>\n",
       "      <td>2011-11-27</td>\n",
       "      <td>1491229</td>\n",
       "      <td>ر.س. 1,770,000</td>\n",
       "      <td>500.03</td>\n",
       "      <td>3,540</td>\n",
       "    </tr>\n",
       "  </tbody>\n",
       "</table>\n",
       "<p>11577 rows × 6 columns</p>\n",
       "</div>"
      ],
      "text/plain": [
       "                                        Number_of_pice        Date  \\\n",
       "Transaction_details PriceT                                           \n",
       "مخطط/.              6030000                   قطعة 297  2011-12-11   \n",
       "مخطط/10             2000000  عدد العقارات 2-أول قطعة81  2011-11-23   \n",
       "                    2187075  عدد العقارات 2-أول قطعة85  2011-11-23   \n",
       "مخطط/10/ ج/ س       1664000                 قطعة 487/أ  2011-10-09   \n",
       "                    2050000                 قطعة 790/ب  2011-10-16   \n",
       "...                                                ...         ...   \n",
       "مخطط/مربعات         1065159                   قطعة 111  2011-12-04   \n",
       "                    1150000                 قطعة 124/1  2011-12-05   \n",
       "                    1175000                 قطعة 116/1  2011-11-28   \n",
       "                    1690000                    قطعة 76  2011-12-17   \n",
       "                    1770000                    قطعة 94  2011-11-27   \n",
       "\n",
       "                             Number_of_Transaction     Price_in_SR  \\\n",
       "Transaction_details PriceT                                           \n",
       "مخطط/.              6030000                1507383  ر.س. 6,030,000   \n",
       "مخطط/10             2000000                1489187  ر.س. 2,000,000   \n",
       "                    2187075                1489181  ر.س. 2,187,075   \n",
       "مخطط/10/ ج/ س       1664000                1444723  ر.س. 1,664,000   \n",
       "                    2050000                1453941  ر.س. 2,050,000   \n",
       "...                                            ...             ...   \n",
       "مخطط/مربعات         1065159                1500407  ر.س. 1,065,159   \n",
       "                    1150000                1501155  ر.س. 1,150,000   \n",
       "                    1175000                1492961  ر.س. 1,175,000   \n",
       "                    1690000                1513463  ر.س. 1,690,000   \n",
       "                    1770000                1491229  ر.س. 1,770,000   \n",
       "\n",
       "                             Space_in_meter Price_of_meter  \n",
       "Transaction_details PriceT                                  \n",
       "مخطط/.              6030000         1050.00          5,743  \n",
       "مخطط/10             2000000         4000.00            500  \n",
       "                    2187075         4374.20            500  \n",
       "مخطط/10/ ج/ س       1664000          487.50          3,413  \n",
       "                    2050000          330.00          6,212  \n",
       "...                                     ...            ...  \n",
       "مخطط/مربعات         1065159          500.00          2,130  \n",
       "                    1150000          300.00          3,833  \n",
       "                    1175000          325.00          3,615  \n",
       "                    1690000          500.00          3,380  \n",
       "                    1770000          500.03          3,540  \n",
       "\n",
       "[11577 rows x 6 columns]"
      ]
     },
     "execution_count": 43,
     "metadata": {},
     "output_type": "execute_result"
    }
   ],
   "source": [
    "sum_df.first()"
   ]
  },
  {
   "cell_type": "code",
   "execution_count": null,
   "metadata": {},
   "outputs": [],
   "source": [
    "grp = df.groupby(['Transaction_details']) \n",
    "for transaction, group in grp: \n",
    "    print(transaction) \n",
    "    print(group) \n",
    "    print() "
   ]
  },
  {
   "cell_type": "code",
   "execution_count": null,
   "metadata": {},
   "outputs": [],
   "source": [
    "df.head()"
   ]
  },
  {
   "cell_type": "code",
   "execution_count": 45,
   "metadata": {},
   "outputs": [
    {
     "data": {
      "text/plain": [
       "'مخطط/2509مخطط/196مخطط/أخرىمخطط/605مخطط/2702مخطط/2726/ أمخطط/2744مخطط/2744/ 2مخطط/2744/ أمخطط/2745مخطط/2745/ 1مخطط/2745/ أمخطط/2745/ بمخطط/2746مخطط/2746/ 1مخطط/2746/ أمخطط/3042مخطط/3043مخطط/3044مخطط/3045مخطط/3046مخطط/3047مخطط/3048مخطط/3049مخطط/3094مخطط/3095مخطط/3096مخطط/3097مخطط/3099مخطط/2003/ و أمخطط/2153مخطط/2750مخطط/3072مخطط/3235مخطط/955مخطط/1822مخطط/1822/ بمخطط/1822/ هـمخطط/4مخطط/1822/ جمخطط/1822/ دمخطط/2230مخطط/2231مخطط/2231/ بمخطط/2405مخطط/2703مخطط/2704/ أمخطط/2731مخطط/2756مخطط/2757مخطط/2922مخطط/3089مخطط/3117مخطط/3119مخطط/3167مخطط/3169مخطط/3195مخطط/3250مخطط/2351مخطط/2351/ أمخطط/2351/ جمخطط/2351/ دمخطط/2351/ هـمخطط/2351/ ومخطط/1111مخطط/1191مخطط/بدونمخطط/1087مخطط/1498مخطط/2059مخطط/2191مخطط/2516مخطط/2516/ أمخطط/2825مخطط/2996مخطط/2996/ 1مخطط/2996/ أمخطط/3003مخطط/3020مخطط/3020/ 1مخطط/3020/ ءمخطط/3020/ أمخطط/3020/ دمخطط/3020/ رمخطط/3020/ لمخطط/3020/ ممخطط/3020/ هـمخطط/3020/ ومخطط/3030مخطط/3063مخطط/919مخطط/162/ ج/ سمخطط/34/ ج/ سمخطط/125/ ج/ سمخطط/182/ ج/ سمخطط/230/ بمخطط/308/ ب/ 1402مخطط/440/ بمخطط/258/ ج/ سمخطط/295/ بمخطط/323/ بمخطط/397/ ج/ سمخطط/123/ ج/ سمخطط/223/ بمخطط/353/ ج/ سمخطط/373/ ج/ سمخطط/372/ بمخطط/251/ بمخطط/420/ ج/ سمخطط/343/ ج/ سمخطط/99/ ج/ س/ المكملمخطط/298/ بمخطط/299/ بمخطط/208/ ج/ سمخطط/386/ ج/ سمخطط/115/ ج/ سمخطط/3/ 333/ عمخطط/69/ ج/ سمخطط/541/ ج/ سمخطط/402/ بمخطط/326/ بمخطط/365/ ج/ سمخطط/385/ ج/ سمخطط/456/ بمخطط/3/ 478/ عمخطط/3/ 471/ عمخطط/35/ بمخطط/128/ ج/ سمخطط/233/ ج/ سمخطط/341/ ج/ سمخطط/456/ ج/ سمخطط/704/ س/ تمخطط/14/ 101/ ب/ المعدلمخطط/132/ ب/ عمخطط/184/ ج/ سمخطط/260/ بمخطط/377/ ج/ سمخطط/272/ بمخطط/272/ ب/ 1402مخطط/3/ 468/ عمخطط/384/ بمخطط/91/ بمخطط/285/ بمخطط/126/ ج/ سمخطط/157/ بمخطط/352/ بمخطط/395/ ج/ سمخطط/476/ ج/ سمخطط/32/ بمخطط/273/ بمخطط/273/ ب/ المعدلمخطط/16/ 101/ بمخطط/2/ ج/ سمخطط/3/ 458/ عمخطط/379/ ج/ سمخطط/90/ ج/ سمخطط/3/ 110/ تمخطط/3/ 505/ تمخطط/269/ بمخطط/83/ ج/ سمخطط/3/ 465/ عمخطط/327/ ج/ سمخطط/67/ ج/ سمخطط/82/ بمخطط/9/ ج/ سمخطط/المنح رقم 8مخطط/المنح رقم 9مخطط/203/ بمخطط/221/ بمخطط/253/ ب/ المعدلمخطط/138/ بمخطط/192/ ج/ سمخطط/224/ بمخطط/315/ ج/ سمخطط/4/ ج/ سمخطط/101/ ب/ 1409مخطط/161/ بمخطط/245/ بمخطط/265/ ج/ سمخطط/393/ بمخطط/99/ ج/ س/ المعدلمخطط/407/ بمخطط/197/ س/ تمخطط/3/ 450/ عمخطط/101/ ب/ 1400مخطط/424/ بمخطط/189/ بمخطط/189/ ج/ سمخطط/228/ بمخطط/226/ بمخطط/244/ بمخطط/244/ ب/ المعدلمخطط/256/ بمخطط/431/ ج/ سمخطط/431/ بمخطط/171/ بمخطط/291/ بمخطط/335/ ج/ سمخطط/337/ ج/ سمخطط/57/ ج/ سمخطط/132/ ج/ سمخطط/158/ بمخطط/3/ 527/ ع/ أمخطط/304/ بمخطط/384/ ج/ سمخطط/375/ ج/ سمخطط/314/ ج/ سمخطط/11/ ج/ سمخطط/10/ ج/ سمخطط/153/ س/ تمخطط/292/ ج/ سمخطط/294/ ج/ سمخطط/439/ بمخطط/441/ بمخطط/17/ بمخطط/6/ ج/ سمخطط/412/ ج/ سمخطط/207/ بمخطط/106/ ج/ سمخطط/156/ بمخطط/218/ ج/ سمخطط/391/ ج/ سمخطط/227/ بمخطط/169/ ج/ سمخطط/167/ بمخطط/170/ بمخطط/204/ بمخطط/209/ بمخطط/243/ بمخطط/377/ بمخطط/354/ ج/ سمخطط/3/ 398/ عمخطط/426/ ج/ سمخطط/244/ ج/ سمخطط/361/ ج/ سمخطط/269/ ج/ س/ تمخطط/320/ ج/ سمخطط/111/ بمخطط/170/ ج/ سمخطط/197/ بمخطط/197/ ج/ سمخطط/239/ بمخطط/249/ ج/ سمخطط/318/ بمخطط/3/ 320/ عمخطط/433/ ج/ سمخطط/3/ 353/ عمخطط/444/ ج/ سمخطط/الحى الاولمخطط/الحى الثالثمخطط/الحى الثانىمخطط/الحى الرابعمخطط/665/ 1مخطط/71/ 1مخطط/78/ 1مخطط/576/ 1مخطط/94/ 1مخطط/704/ 1مخطط/765/ 1مخطط/2915مخطط/2918مخطط/3515مخطط/3615مخطط/3617مخطط/3717مخطط/6904مخطط/76/ 1مخطط/107/ 1مخطط/65/ 1مخطط/452/ 1مخطط/113/ 1مخطط/190/ 1مخطط/184/ 1مخطط/18/ 1مخطط/85/ 1مخطط/861/ 1مخطط/203/ 1مخطط/221/ 1مخطط/208/ 1مخطط/97/ 1مخطط/108/ 5مخطط/138/ 1مخطط/168/ 1مخطط/323/ 1مخطط/2108مخطط/3209مخطط/3306مخطط/3307مخطط/3308مخطط/3409مخطط/3508مخطط/3607مخطط/3609مخطط/3909مخطط/4108مخطط/472/ 1مخطط/563/ 1مخطط/889/ 1مخطط/123/ 1مخطط/486/ 1مخطط/370/ 1مخطط/450/ 1مخطط/71مخطط/1210مخطط/1310مخطط/1510مخطط/37/ 1مخطط/77مخطط/813/ ش.دمخطط/41/ 1مخطط/682/ 1مخطط/788/ 1مخطط/82مخطط/82/ 1مخطط/969/ ش.دمخطط/422/ 1مخطط/2611مخطط/338/ 1مخطط/937/ ش دمخطط/723/ 1مخطط/61/ 1مخطط/644/ 1مخطط/811/ ش .دمخطط/1041/ 1مخطط/225/ 1مخطط/304/ 1مخطط/333مخطط/333/ 1مخطط/2312مخطط/2313مخطط/2412مخطط/2414مخطط/2415مخطط/2515مخطط/2613مخطط/2713مخطط/2810مخطط/141/ 1مخطط/418/ 1مخطط/561/ 1مخطط/600/ 1مخطط/134/ 1مخطط/141 لاغى/ 1مخطط/936/ 1مخطط/936/ ش.دمخطط/245/ 1مخطط/475/ 1مخطط/698/ 1مخطط/798/ 1مخطط/1053/ ش دمخطط/205/ 1مخطط/257/ 1مخطط/279/ 1مخطط/463/ 1مخطط/535/ 1مخطط/631/ 1مخطط/683/ 1مخطط/745/ 1مخطط/746مخطط/8مخطط/8/ 92مخطط/3014مخطط/3214مخطط/64/ 1مخطط/1003/ ش.دمخطط/213/ 1مخطط/117/ 1مخطط/258/ 1مخطط/276/ 1مخطط/602/ 1مخطط/657/ 1مخطط/662/ 1مخطط/680/ 1مخطط/689/ 1مخطط/708/ 1مخطط/792/ 1مخطط/784/ 1مخطط/ش د 1049مخطط/217/ 1مخطط/68/ 1مخطط/177/ 1مخطط/2910مخطط/334/ 9مخطط/44/ 1مخطط/1095/ ش دمخطط/762/ 1مخطط/ش د 1095مخطط/55/ 1مخطط/603/ 1مخطط/1012/ ش.دمخطط/226/ 1مخطط/249/ 1مخطط/263/ 1مخطط/461/ 1مخطط/604مخطط/668/ 1مخطط/742/ ش.دمخطط/755/ 1مخطط/975/ 1/ ش.دمخطط/125/ 1مخطط/465/ 1مخطط/397/ 1مخطط/91/ 1مخطط/914/ ش.دمخطط/2524مخطط/2624مخطط/2625مخطط/2912مخطط/12مخطط/56مخطط/739/ 1مخطط/294/ 1مخطط/503/ 1مخطط/1203/ 1مخطط/189/ 1مخطط/211/ 1مخطط/243/ 1مخطط/244/ 1مخطط/248/ 1مخطط/740/ 1مخطط/1692مخطط/1796مخطط/218/ 1مخطط/766/ 1مخطط/75/ 1مخطط/105/ 1مخطط/1613مخطط/1755مخطط/1793مخطط/1813مخطط/1892مخطط/1895مخطط/1909مخطط/1990مخطط/2013مخطط/2122مخطط/2134مخطط/2139مخطط/2140مخطط/2142مخطط/2211مخطط/1180/ ش.دمخطط/537/ 1مخطط/945/ ش دمخطط/2022مخطط/2485مخطط/3152مخطط/619مخطط/2495/ أمخطط/2683مخطط/2714مخطط/2877مخطط/2888مخطط/2932مخطط/2958مخطط/2958/ أمخطط/2979مخطط/3010مخطط/3011مخطط/3183مخطط/مربعاتمخطط/8220مخطط/2078/ أمخطط/2078/ أ بمخطط/2357مخطط/1628مخطط/1661مخطط/1896مخطط/3188مخطط/631مخطط/1638مخطط/2936مخطط/2859مخطط/1822/ سمخطط/2489مخطط/2595مخطط/2783مخطط/2783/ أمخطط/2368مخطط/1351مخطط/3163مخطط/2075مخطط/275مخطط/3084مخطط/3191مخطط/3231مخطط/3022/ ومخطط/1444مخطط/2259مخطط/2040مخطط/2685/ أمخطط/2964مخطط/1968مخطط/682مخطط/1075/ أمخطط/1353مخطط/1353/ جمخطط/1932مخطط/2040/ أمخطط/2301مخطط/2934مخطط/3007مخطط/3312مخطط/3312/ أمخطط/3312/ بمخطط/3414مخطط/3420مخطط/3422مخطط/2483مخطط/2705/ أمخطط/3085مخطط/3377مخطط/834مخطط/3016مخطط/3271مخطط/207مخطط/208مخطط/2751مخطط/3193مخطط/629مخطط/720مخطط/1637/ كمخطط/2413مخطط/2917مخطط/3090مخطط/2925مخطط/3180مخطط/2491/ بمخطط/2747/ أمخطط/2761مخطط/2880مخطط/3024مخطط/3083مخطط/3088مخطط/3121مخطط/3270مخطط/3376مخطط/1679/ أمخطط/2185مخطط/2614مخطط/2957مخطط/3171مخطط/1082مخطط/1228/ 1082مخطط/1375مخطط/1983مخطط/391مخطط/1519مخطط/1519/ أمخطط/2014مخطط/2280مخطط/2280/ أمخطط/674/ أمخطط/315مخطط/1017مخطط/1176مخطط/2059/ أمخطط/1391مخطط/2015مخطط/2276مخطط/2298مخطط/2350مخطط/2388مخطط/2410مخطط/3086مخطط/3182مخطط/1992مخطط/2207مخطط/2696مخطط/2739مخطط/2028مخطط/2382مخطط/2796مخطط/2886مخطط/2981مخطط/2984مخطط/3039مخطط/3066مخطط/3265مخطط/3310مخطط/ذذذذذذذذذذذذذذذذذذذذذذذذذذذذذذذذذذذذذذذذذذذذذذذذذذمخطط/1056مخطط/1324مخطط/1332مخطط/1569مخطط/2267مخطط/689مخطط/690مخطط/771مخطط/897مخطط/1179مخطط/1638/ بمخطط/2059/ 1مخطط/2163مخطط/2847و2876مخطط/2902مخطط/691مخطط/802مخطط/2670مخطط/1931مخطط/2032مخطط/2032/ جمخطط/2032/ ومخطط/2072مخطط/2096مخطط/2117مخطط/2266مخطط/2805مخطط/3222مخطط/3080مخطط/1637مخطط/1637/ سمخطط/841/ أمخطط/2078مخطط/2008مخطط/2008.مخطط/2008/ أمخطط/2008/ بمخطط/2008/ جمخطط/2008/ حمخطط/2008/ دمخطط/2930/ 1مخطط/2946مخطط/2949مخطط/1329مخطط/1374مخطط/2245مخطط/2740مخطط/2740/ أمخطط/2749مخطط/3017مخطط/567مخطط/579مخطط/719مخطط/1863/ أبمخطط/1863/ جمخطط/2347مخطط/2708مخطط/2837مخطط/1343مخطط/374مخطط/793مخطط/2726مخطط/2834مخطط/3022مخطط/30221مخطط/3258مخطط/2924مخطط/2999مخطط/577مخطط/2976مخطط/2451مخطط/2451/ أ بمخطط/841مخطط/2160/ أمخطط/2670/ 28مخطط/2670/ بمخطط/2688مخطط/2861مخطط/3074مخطط/3173مخطط/3253مخطط/2304مخطط/2460مخطط/2460/ 28مخطط/2460/ أمخطط/1578/ بمخطط/2097مخطط/2680مخطط/1934مخطط/2135مخطط/1578مخطط/1578/ أمخطط/1578/ أ بمخطط/3352مخطط/2740/ جمخطط/2377مخطط/2820مخطط/3200مخطط/90مخطط/2199مخطط/1126مخطط/810مخطط/1358مخطط/1358/ أمخطط/2997مخطط/1637/ دمخطط/1954مخطط/1954/ أمخطط/1954/ دمخطط/1079مخطط/2311مخطط/1863/ أ بمخطط/1863/ ابمخطط/3069مخطط/3114مخطط/3175مخطط/3176مخطط/3360مخطط/81/ ممخطط/3220مخطط/3267مخطط/2940مخطط/2972/ أمخطط/1578/ أ جمخطط/2928مخطط/2029مخطط/2253/ أمخطط/2845مخطط/1967مخطط/2303مخطط/2566مخطط/2566/ أمخطط/2566/ امخطط/2566/ بمخطط/2566/ جمخطط/2195مخطط/2232مخطط/2237مخطط/2491/ أمخطط/2497مخطط/2788مخطط/2978مخطط/3223مخطط/3274مخطط/3283مخطط/1075مخطط/2113/ بمخطط/2837/ أمخطط/2961مخطط/2666مخطط/3260مخطط/1954/ بمخطط/3309مخطط/1270مخطط/1270/ أمخطط/1270/ بمخطط/1270/ جمخطط/1270/ دمخطط/1270/ هـمخطط/1270/ ومخطط/2794مخطط/3247مخطط/911مخطط/1501مخطط/1642مخطط/1793/ أمخطط/1793/ بمخطط/2190مخطط/3076مخطط/3118مخطط/3156مخطط/3184مخطط/3254مخطط/3257مخطط/3301مخطط/1353/ 1مخطط/1353/ أمخطط/1353/ بمخطط/3353/ أمخطط/2488/ أمخطط/3038مخطط/1689مخطط/2128مخطط/3112مخطط/2804مخطط/2737مخطط/2771/ أمخطط/3073مخطط/3157مخطط/3229مخطط/1822/ ومخطط/2029/ أمخطط/2233مخطط/2233/ أمخطط/2404مخطط/2525مخطط/2839مخطط/3005مخطط/1597مخطط/2241/ أمخطط/2392مخطط/1133مخطط/1142مخطط/1189مخطط/2030/ أمخطط/2334مخطط/2003مخطط/2003/ أمخطط/2003/ بمخطط/2003/ دمخطط/2003/ هـمخطط/2477مخطط/2791مخطط/3264مخطط/3221مخطط/3237مخطط/2459مخطط/3057مخطط/2278مخطط/2116مخطط/1512مخطط/3123مخطط/3124مخطط/3125مخطط/3128مخطط/3129مخطط/3130مخطط/3131مخطط/3132مخطط/3133مخطط/3134مخطط/3135مخطط/3136مخطط/3144مخطط/3145مخطط/3146مخطط/3147مخطط/3148مخطط/3149مخطط/3211مخطط/3212مخطط/3213مخطط/3215مخطط/3216مخطط/3217مخطط/3234مخطط/1973مخطط/2700مخطط/2084/ أمخطط/3192مخطط/2789/ 1498مخطط/2838مخطط/3020/ كمخطط/359/ ج/ سمخطط/3/ 407/ عمخطط/48/ بمخطط/58/ بمخطط/310/ ج/ سمخطط/341/ بمخطط/166/ بمخطط/172/ بمخطط/76/ ج/ سمخطط/143/ بمخطط/21/ ج/ سمخطط/455/ س/ تمخطط/456/ س/ تمخطط/399/ ج/ سمخطط/194/ ج/ سمخطط/191/ ج/ سمخطط/329/ بمخطط/426/ بمخطط/238/ بمخطط/جمخطط/28/ س/ تمخطط/6مخطط/3015مخطط/3116مخطط/3616مخطط/824/ 1مخطط/128/ 1مخطط/47/ 1مخطط/809/ 1مخطط/97/ 1/ معدلمخطط/175/ 1مخطط/69/ 1مخطط/2907مخطط/3107مخطط/3206مخطط/3408مخطط/3509مخطط/3709مخطط/4109مخطط/330/ 1/ معدلمخطط/911/ ش.دمخطط/1311مخطط/179/ 1مخطط/769/ 1مخطط/832/ ش.دمخطط/41 معدل/ 1مخطط/836/ 1مخطط/2511مخطط/2513مخطط/561 /1 معدلمخطط/612/ 1مخطط/246/ 1مخطط/913/ ش دمخطط/ش د 1029مخطط/2914مخطط/162/ 1مخطط/181/ 1مخطط/671/ 1مخطط/239/ 1مخطط/834/ 1مخطط/658/ 1مخطط/115/ 1مخطط/10مخطط/16مخطط/362مخطط/1946مخطط/2150مخطط/2212مخطط/2588مخطط/2815مخطط/2903مخطط/2935مخطط/3159مخطط/1822/ 1مخطط/1822/ أمخطط/1822/ كمخطط/2249مخطط/1638/ جمخطط/2968مخطط/2787/ أمخطط/2856مخطط/3059مخطط/99مخطط/2870مخطط/2690مخطط/1994مخطط/2040/ بمخطط/2905مخطط/3032مخطط/1907مخطط/1611/ جمخطط/2889مخطط/2483/ بمخطط/2705/ ممخطط/2750/ أمخطط/734مخطط/1940مخطط/2328مخطط/2668مخطط/674/ دمخطط/856مخطط/2822مخطط/927مخطط/2913مخطط/3031مخطط/1228مخطط/3162مخطط/613مخطط/674/ 1مخطط/2482مخطط/2484مخطط/2774/ بمخطط/2020مخطط/2696/ أمخطط/2183مخطط/2505مخطط/2785مخطط/2893مخطط/2945مخطط/3060مخطط/3153مخطط/3227مخطط/3382مخطط/620مخطط/1107مخطط/2050مخطط/2469مخطط/2847مخطط/2876مخطط/2987مخطط/3070مخطط/1544مخطط/194/ 656مخطط/1984مخطط/2153/ أمخطط/2366مخطط/2697مخطط/416مخطط/656/ 194مخطط/2531مخطط/1863/ أ/ بمخطط/1061مخطط/908مخطط/2094مخطط/972مخطط/1289مخطط/2008/ ءمخطط/2930مخطط/2037مخطط/2088مخطط/772مخطط/1391/ 4مخطط/3251مخطط/1358/ بمخطط/2670/ أمخطط/3052مخطط/2685مخطط/2030مخطط/24601مخطط/2826مخطط/1324/ بمخطط/209مخطط/2896مخطط/1212مخطط/1324/ أمخطط/2187مخطط/2041مخطط/3065مخطط/3279مخطط/2858مخطط/1578/ 1مخطط/1256مخطط/.مخطط/2901مخطط/1328مخطط/315/ أمخطط/368مخطط/843مخطط/1863/ أمخطط/3179مخطط/3256مخطط/3324مخطط/392مخطط/2143مخطط/2939مخطط/3061مخطط/1922مخطط/2566/ 1مخطط/2160/ بمخطط/2593/ جمخطط/2732مخطط/2804/ أمخطط/2393مخطط/2689مخطط/2689/ أمخطط/270مخطط/911/ دمخطط/911/ هـمخطط/947مخطط/1353/ 9مخطط/1353/ دمخطط/13535/ أمخطط/2734مخطط/3002مخطط/5مخطط/1029مخطط/1144مخطط/2099/ أمخطط/2926مخطط/1201مخطط/1483مخطط/1127مخطط/1631مخطط/2032/ بمخطط/2287مخطط/2960مخطط/1644مخطط/720/ أمخطط/3154مخطط/2705/ 3مخطط/1523مخطط/2902/ أمخطط/3056مخطط/4135مخطط/1540مخطط/2476مخطط/2745/ خمخطط/3023مخطط/915/ 2أمخطط/352مخطط/1822/ هـ/ 7مخطط/2383مخطط/3115مخطط/3251/ دمخطط/1350مخطط/1911مخطط/2818مخطط/2105مخطط/2789مخطط/220/ ج/ سمخطط/185/ بمخطط/3/ 454/ عمخطط/173/ س/ تمخطط/165/ ج/ سمخطط/3/ 464/ عمخطط/383/ بمخطط/187/ بمخطط/137/ بمخطط/84/ بمخطط/177/ ج/ سمخطط/62/ ج/ سمخطط/3/ 462/ عمخطط/342/ ج/ سمخطط/52/ ب/ 98مخطط/356/ ج/ سمخطط/42/ ج/ سمخطط/188/ بمخطط/198/ ج/ سمخطط/337/ س/ تمخطط/432/ ج/ سمخطط/70/ ج/ سمخطط/454/ بمخطط/100/ ج/ سمخطط/3/ ج/ سمخطط/249/ ج/ س/ المكملمخطط/352/ ج/ سمخطط/3/ 127/ عمخطط/22مخطط/2919مخطط/3018مخطط/3021مخطط/3715مخطط/3716مخطط/825/ 1مخطط/422 لاغى/ 1مخطط/507/ 1مخطط/996/ ش دمخطط/2908مخطط/3109مخطط/3207مخطط/3407مخطط/5/ 125/ معدلمخطط/2011مخطط/365/ 1مخطط/832/ 1مخطط/2113مخطط/2518مخطط/2814مخطط/1407مخطط/1509مخطط/380/ 1مخطط/921/ ش.دمخطط/534/ 1مخطط/551مخطط/616مخطط/778/ 1مخطط/828 ش.دمخطط/943/ ش دمخطط/185/ 1مخطط/3614مخطط/368/ 1مخطط/213مخطط/100/ 1مخطط/107مخطط/30مخطط/616/ 1مخطط/686/ 1مخطط/761/ 1مخطط/268/ 1مخطط/399/ 1مخطط/900/ ش.دمخطط/933/ ش . دمخطط/2120مخطط/18مخطط/27مخطط/44مخطط/1711مخطط/1741مخطط/75 / 1 بالمنطقه الثالثهمخطط/105مخطط/398/ 1مخطط/1730مخطط/2138مخطط/2152مخطط/2160'"
      ]
     },
     "execution_count": 45,
     "metadata": {},
     "output_type": "execute_result"
    }
   ],
   "source": [
    "df.Transaction_details.unique().sum()"
   ]
  },
  {
   "cell_type": "code",
   "execution_count": 46,
   "metadata": {},
   "outputs": [
    {
     "data": {
      "text/html": [
       "<div>\n",
       "<style scoped>\n",
       "    .dataframe tbody tr th:only-of-type {\n",
       "        vertical-align: middle;\n",
       "    }\n",
       "\n",
       "    .dataframe tbody tr th {\n",
       "        vertical-align: top;\n",
       "    }\n",
       "\n",
       "    .dataframe thead th {\n",
       "        text-align: right;\n",
       "    }\n",
       "</style>\n",
       "<table border=\"1\" class=\"dataframe\">\n",
       "  <thead>\n",
       "    <tr style=\"text-align: right;\">\n",
       "      <th></th>\n",
       "      <th>Transaction_details</th>\n",
       "      <th>Number_of_pice</th>\n",
       "      <th>Date</th>\n",
       "      <th>Number_of_Transaction</th>\n",
       "      <th>Price_in_SR</th>\n",
       "      <th>Space_in_meter</th>\n",
       "      <th>Price_of_meter</th>\n",
       "      <th>PriceT</th>\n",
       "    </tr>\n",
       "  </thead>\n",
       "  <tbody>\n",
       "    <tr>\n",
       "      <th>0</th>\n",
       "      <td>مخطط/2509</td>\n",
       "      <td>قطعة 4401/2</td>\n",
       "      <td>2011-10-18</td>\n",
       "      <td>1457889</td>\n",
       "      <td>ر.س. 370,000</td>\n",
       "      <td>480.0</td>\n",
       "      <td>771</td>\n",
       "      <td>370000</td>\n",
       "    </tr>\n",
       "    <tr>\n",
       "      <th>1</th>\n",
       "      <td>مخطط/2509</td>\n",
       "      <td>قطعة 4402/1</td>\n",
       "      <td>2011-10-17</td>\n",
       "      <td>1455745</td>\n",
       "      <td>ر.س. 360,000</td>\n",
       "      <td>480.0</td>\n",
       "      <td>750</td>\n",
       "      <td>360000</td>\n",
       "    </tr>\n",
       "    <tr>\n",
       "      <th>2</th>\n",
       "      <td>مخطط/2509</td>\n",
       "      <td>قطعة 4409/1</td>\n",
       "      <td>2011-10-30</td>\n",
       "      <td>1473217</td>\n",
       "      <td>ر.س. 390,000</td>\n",
       "      <td>520.0</td>\n",
       "      <td>750</td>\n",
       "      <td>390000</td>\n",
       "    </tr>\n",
       "    <tr>\n",
       "      <th>3</th>\n",
       "      <td>مخطط/2509</td>\n",
       "      <td>قطعة 4453/2</td>\n",
       "      <td>2011-10-12</td>\n",
       "      <td>1449976</td>\n",
       "      <td>ر.س. 370,000</td>\n",
       "      <td>510.0</td>\n",
       "      <td>725</td>\n",
       "      <td>370000</td>\n",
       "    </tr>\n",
       "    <tr>\n",
       "      <th>4</th>\n",
       "      <td>مخطط/2509</td>\n",
       "      <td>قطعة 4455/1</td>\n",
       "      <td>2011-10-23</td>\n",
       "      <td>1463784</td>\n",
       "      <td>ر.س. 370,000</td>\n",
       "      <td>510.0</td>\n",
       "      <td>725</td>\n",
       "      <td>370000</td>\n",
       "    </tr>\n",
       "  </tbody>\n",
       "</table>\n",
       "</div>"
      ],
      "text/plain": [
       "  Transaction_details  Number_of_pice        Date  Number_of_Transaction  \\\n",
       "0           مخطط/2509     قطعة 4401/2  2011-10-18                1457889   \n",
       "1           مخطط/2509     قطعة 4402/1  2011-10-17                1455745   \n",
       "2           مخطط/2509     قطعة 4409/1  2011-10-30                1473217   \n",
       "3           مخطط/2509     قطعة 4453/2  2011-10-12                1449976   \n",
       "4           مخطط/2509     قطعة 4455/1  2011-10-23                1463784   \n",
       "\n",
       "    Price_in_SR  Space_in_meter Price_of_meter  PriceT  \n",
       "0  ر.س. 370,000           480.0            771  370000  \n",
       "1  ر.س. 360,000           480.0            750  360000  \n",
       "2  ر.س. 390,000           520.0            750  390000  \n",
       "3  ر.س. 370,000           510.0            725  370000  \n",
       "4  ر.س. 370,000           510.0            725  370000  "
      ]
     },
     "execution_count": 46,
     "metadata": {},
     "output_type": "execute_result"
    }
   ],
   "source": [
    "df.head()"
   ]
  },
  {
   "cell_type": "code",
   "execution_count": null,
   "metadata": {},
   "outputs": [],
   "source": []
  },
  {
   "cell_type": "code",
   "execution_count": null,
   "metadata": {},
   "outputs": [],
   "source": []
  },
  {
   "cell_type": "code",
   "execution_count": 47,
   "metadata": {},
   "outputs": [],
   "source": [
    "\n",
    "new_df = df[['Transaction_details', 'PriceT', 'Space_in_meter' ]].copy()\n"
   ]
  },
  {
   "cell_type": "code",
   "execution_count": 48,
   "metadata": {},
   "outputs": [
    {
     "data": {
      "text/html": [
       "<div>\n",
       "<style scoped>\n",
       "    .dataframe tbody tr th:only-of-type {\n",
       "        vertical-align: middle;\n",
       "    }\n",
       "\n",
       "    .dataframe tbody tr th {\n",
       "        vertical-align: top;\n",
       "    }\n",
       "\n",
       "    .dataframe thead th {\n",
       "        text-align: right;\n",
       "    }\n",
       "</style>\n",
       "<table border=\"1\" class=\"dataframe\">\n",
       "  <thead>\n",
       "    <tr style=\"text-align: right;\">\n",
       "      <th></th>\n",
       "      <th>Transaction_details</th>\n",
       "      <th>PriceT</th>\n",
       "      <th>Space_in_meter</th>\n",
       "    </tr>\n",
       "  </thead>\n",
       "  <tbody>\n",
       "    <tr>\n",
       "      <th>0</th>\n",
       "      <td>مخطط/2509</td>\n",
       "      <td>370000</td>\n",
       "      <td>480.0</td>\n",
       "    </tr>\n",
       "    <tr>\n",
       "      <th>1</th>\n",
       "      <td>مخطط/2509</td>\n",
       "      <td>360000</td>\n",
       "      <td>480.0</td>\n",
       "    </tr>\n",
       "    <tr>\n",
       "      <th>2</th>\n",
       "      <td>مخطط/2509</td>\n",
       "      <td>390000</td>\n",
       "      <td>520.0</td>\n",
       "    </tr>\n",
       "    <tr>\n",
       "      <th>3</th>\n",
       "      <td>مخطط/2509</td>\n",
       "      <td>370000</td>\n",
       "      <td>510.0</td>\n",
       "    </tr>\n",
       "    <tr>\n",
       "      <th>4</th>\n",
       "      <td>مخطط/2509</td>\n",
       "      <td>370000</td>\n",
       "      <td>510.0</td>\n",
       "    </tr>\n",
       "  </tbody>\n",
       "</table>\n",
       "</div>"
      ],
      "text/plain": [
       "  Transaction_details  PriceT  Space_in_meter\n",
       "0           مخطط/2509  370000           480.0\n",
       "1           مخطط/2509  360000           480.0\n",
       "2           مخطط/2509  390000           520.0\n",
       "3           مخطط/2509  370000           510.0\n",
       "4           مخطط/2509  370000           510.0"
      ]
     },
     "execution_count": 48,
     "metadata": {},
     "output_type": "execute_result"
    }
   ],
   "source": [
    "new_df.head()"
   ]
  },
  {
   "cell_type": "code",
   "execution_count": 67,
   "metadata": {},
   "outputs": [],
   "source": [
    "new1_df = df[['Transaction_details', 'PriceT', 'Space_in_meter' ]].copy()"
   ]
  },
  {
   "cell_type": "code",
   "execution_count": null,
   "metadata": {},
   "outputs": [],
   "source": [
    "#df.Transaction_details.value_counts()"
   ]
  },
  {
   "cell_type": "code",
   "execution_count": 68,
   "metadata": {},
   "outputs": [
    {
     "data": {
      "text/html": [
       "<div>\n",
       "<style scoped>\n",
       "    .dataframe tbody tr th:only-of-type {\n",
       "        vertical-align: middle;\n",
       "    }\n",
       "\n",
       "    .dataframe tbody tr th {\n",
       "        vertical-align: top;\n",
       "    }\n",
       "\n",
       "    .dataframe thead th {\n",
       "        text-align: right;\n",
       "    }\n",
       "</style>\n",
       "<table border=\"1\" class=\"dataframe\">\n",
       "  <thead>\n",
       "    <tr style=\"text-align: right;\">\n",
       "      <th></th>\n",
       "      <th>Transaction_details</th>\n",
       "      <th>PriceT</th>\n",
       "      <th>Space_in_meter</th>\n",
       "    </tr>\n",
       "  </thead>\n",
       "  <tbody>\n",
       "    <tr>\n",
       "      <th>0</th>\n",
       "      <td>مخطط/2509</td>\n",
       "      <td>370000</td>\n",
       "      <td>480.0</td>\n",
       "    </tr>\n",
       "    <tr>\n",
       "      <th>1</th>\n",
       "      <td>مخطط/2509</td>\n",
       "      <td>360000</td>\n",
       "      <td>480.0</td>\n",
       "    </tr>\n",
       "    <tr>\n",
       "      <th>2</th>\n",
       "      <td>مخطط/2509</td>\n",
       "      <td>390000</td>\n",
       "      <td>520.0</td>\n",
       "    </tr>\n",
       "    <tr>\n",
       "      <th>3</th>\n",
       "      <td>مخطط/2509</td>\n",
       "      <td>370000</td>\n",
       "      <td>510.0</td>\n",
       "    </tr>\n",
       "    <tr>\n",
       "      <th>4</th>\n",
       "      <td>مخطط/2509</td>\n",
       "      <td>370000</td>\n",
       "      <td>510.0</td>\n",
       "    </tr>\n",
       "  </tbody>\n",
       "</table>\n",
       "</div>"
      ],
      "text/plain": [
       "  Transaction_details  PriceT  Space_in_meter\n",
       "0           مخطط/2509  370000           480.0\n",
       "1           مخطط/2509  360000           480.0\n",
       "2           مخطط/2509  390000           520.0\n",
       "3           مخطط/2509  370000           510.0\n",
       "4           مخطط/2509  370000           510.0"
      ]
     },
     "execution_count": 68,
     "metadata": {},
     "output_type": "execute_result"
    }
   ],
   "source": [
    "new1_df.head()"
   ]
  },
  {
   "cell_type": "code",
   "execution_count": null,
   "metadata": {},
   "outputs": [],
   "source": []
  },
  {
   "cell_type": "code",
   "execution_count": 53,
   "metadata": {},
   "outputs": [
    {
     "ename": "KeyError",
     "evalue": "'Transaction_details'",
     "output_type": "error",
     "traceback": [
      "\u001b[0;31m---------------------------------------------------------------------------\u001b[0m",
      "\u001b[0;31mKeyError\u001b[0m                                  Traceback (most recent call last)",
      "\u001b[0;32m<ipython-input-53-8b62cbc82c1e>\u001b[0m in \u001b[0;36m<module>\u001b[0;34m\u001b[0m\n\u001b[1;32m      1\u001b[0m \u001b[0;32mfor\u001b[0m \u001b[0mi\u001b[0m \u001b[0;32min\u001b[0m \u001b[0mdf\u001b[0m\u001b[0;34m:\u001b[0m\u001b[0;34m\u001b[0m\u001b[0;34m\u001b[0m\u001b[0m\n\u001b[1;32m      2\u001b[0m     \u001b[0;32mfor\u001b[0m \u001b[0mj\u001b[0m \u001b[0;32min\u001b[0m \u001b[0mnew_df\u001b[0m\u001b[0;34m:\u001b[0m\u001b[0;34m\u001b[0m\u001b[0;34m\u001b[0m\u001b[0m\n\u001b[0;32m----> 3\u001b[0;31m         \u001b[0;32mif\u001b[0m\u001b[0;34m(\u001b[0m\u001b[0mdf\u001b[0m\u001b[0;34m[\u001b[0m\u001b[0;34m'Transaction_details'\u001b[0m\u001b[0;34m]\u001b[0m\u001b[0;34m[\u001b[0m\u001b[0mi\u001b[0m\u001b[0;34m]\u001b[0m \u001b[0;34m==\u001b[0m \u001b[0mnew_df\u001b[0m\u001b[0;34m[\u001b[0m\u001b[0;34m'Transaction_details'\u001b[0m\u001b[0;34m]\u001b[0m\u001b[0;34m[\u001b[0m\u001b[0mj\u001b[0m\u001b[0;34m+\u001b[0m\u001b[0;36m1\u001b[0m\u001b[0;34m]\u001b[0m\u001b[0;34m)\u001b[0m\u001b[0;34m:\u001b[0m\u001b[0;34m\u001b[0m\u001b[0;34m\u001b[0m\u001b[0m\n\u001b[0m\u001b[1;32m      4\u001b[0m             \u001b[0;32mif\u001b[0m\u001b[0;34m(\u001b[0m\u001b[0mnew_df\u001b[0m\u001b[0;34m[\u001b[0m\u001b[0;34m'PriceT'\u001b[0m\u001b[0;34m]\u001b[0m \u001b[0;34m>\u001b[0m \u001b[0mnew1_df\u001b[0m\u001b[0;34m[\u001b[0m\u001b[0;34m'PriceT'\u001b[0m\u001b[0;34m]\u001b[0m\u001b[0;34m)\u001b[0m\u001b[0;34m:\u001b[0m\u001b[0;34m\u001b[0m\u001b[0;34m\u001b[0m\u001b[0m\n\u001b[1;32m      5\u001b[0m                 \u001b[0mnew_df\u001b[0m\u001b[0;34m[\u001b[0m\u001b[0;34m'Type'\u001b[0m\u001b[0;34m]\u001b[0m\u001b[0;34m=\u001b[0m\u001b[0;34m'Building'\u001b[0m\u001b[0;34m\u001b[0m\u001b[0;34m\u001b[0m\u001b[0m\n",
      "\u001b[0;32m/opt/anaconda3/lib/python3.8/site-packages/pandas/core/series.py\u001b[0m in \u001b[0;36m__getitem__\u001b[0;34m(self, key)\u001b[0m\n\u001b[1;32m    869\u001b[0m         \u001b[0mkey\u001b[0m \u001b[0;34m=\u001b[0m \u001b[0mcom\u001b[0m\u001b[0;34m.\u001b[0m\u001b[0mapply_if_callable\u001b[0m\u001b[0;34m(\u001b[0m\u001b[0mkey\u001b[0m\u001b[0;34m,\u001b[0m \u001b[0mself\u001b[0m\u001b[0;34m)\u001b[0m\u001b[0;34m\u001b[0m\u001b[0;34m\u001b[0m\u001b[0m\n\u001b[1;32m    870\u001b[0m         \u001b[0;32mtry\u001b[0m\u001b[0;34m:\u001b[0m\u001b[0;34m\u001b[0m\u001b[0;34m\u001b[0m\u001b[0m\n\u001b[0;32m--> 871\u001b[0;31m             \u001b[0mresult\u001b[0m \u001b[0;34m=\u001b[0m \u001b[0mself\u001b[0m\u001b[0;34m.\u001b[0m\u001b[0mindex\u001b[0m\u001b[0;34m.\u001b[0m\u001b[0mget_value\u001b[0m\u001b[0;34m(\u001b[0m\u001b[0mself\u001b[0m\u001b[0;34m,\u001b[0m \u001b[0mkey\u001b[0m\u001b[0;34m)\u001b[0m\u001b[0;34m\u001b[0m\u001b[0;34m\u001b[0m\u001b[0m\n\u001b[0m\u001b[1;32m    872\u001b[0m \u001b[0;34m\u001b[0m\u001b[0m\n\u001b[1;32m    873\u001b[0m             \u001b[0;32mif\u001b[0m \u001b[0;32mnot\u001b[0m \u001b[0mis_scalar\u001b[0m\u001b[0;34m(\u001b[0m\u001b[0mresult\u001b[0m\u001b[0;34m)\u001b[0m\u001b[0;34m:\u001b[0m\u001b[0;34m\u001b[0m\u001b[0;34m\u001b[0m\u001b[0m\n",
      "\u001b[0;32m/opt/anaconda3/lib/python3.8/site-packages/pandas/core/indexes/base.py\u001b[0m in \u001b[0;36mget_value\u001b[0;34m(self, series, key)\u001b[0m\n\u001b[1;32m   4403\u001b[0m         \u001b[0mk\u001b[0m \u001b[0;34m=\u001b[0m \u001b[0mself\u001b[0m\u001b[0;34m.\u001b[0m\u001b[0m_convert_scalar_indexer\u001b[0m\u001b[0;34m(\u001b[0m\u001b[0mk\u001b[0m\u001b[0;34m,\u001b[0m \u001b[0mkind\u001b[0m\u001b[0;34m=\u001b[0m\u001b[0;34m\"getitem\"\u001b[0m\u001b[0;34m)\u001b[0m\u001b[0;34m\u001b[0m\u001b[0;34m\u001b[0m\u001b[0m\n\u001b[1;32m   4404\u001b[0m         \u001b[0;32mtry\u001b[0m\u001b[0;34m:\u001b[0m\u001b[0;34m\u001b[0m\u001b[0;34m\u001b[0m\u001b[0m\n\u001b[0;32m-> 4405\u001b[0;31m             \u001b[0;32mreturn\u001b[0m \u001b[0mself\u001b[0m\u001b[0;34m.\u001b[0m\u001b[0m_engine\u001b[0m\u001b[0;34m.\u001b[0m\u001b[0mget_value\u001b[0m\u001b[0;34m(\u001b[0m\u001b[0ms\u001b[0m\u001b[0;34m,\u001b[0m \u001b[0mk\u001b[0m\u001b[0;34m,\u001b[0m \u001b[0mtz\u001b[0m\u001b[0;34m=\u001b[0m\u001b[0mgetattr\u001b[0m\u001b[0;34m(\u001b[0m\u001b[0mseries\u001b[0m\u001b[0;34m.\u001b[0m\u001b[0mdtype\u001b[0m\u001b[0;34m,\u001b[0m \u001b[0;34m\"tz\"\u001b[0m\u001b[0;34m,\u001b[0m \u001b[0;32mNone\u001b[0m\u001b[0;34m)\u001b[0m\u001b[0;34m)\u001b[0m\u001b[0;34m\u001b[0m\u001b[0;34m\u001b[0m\u001b[0m\n\u001b[0m\u001b[1;32m   4406\u001b[0m         \u001b[0;32mexcept\u001b[0m \u001b[0mKeyError\u001b[0m \u001b[0;32mas\u001b[0m \u001b[0me1\u001b[0m\u001b[0;34m:\u001b[0m\u001b[0;34m\u001b[0m\u001b[0;34m\u001b[0m\u001b[0m\n\u001b[1;32m   4407\u001b[0m             \u001b[0;32mif\u001b[0m \u001b[0mlen\u001b[0m\u001b[0;34m(\u001b[0m\u001b[0mself\u001b[0m\u001b[0;34m)\u001b[0m \u001b[0;34m>\u001b[0m \u001b[0;36m0\u001b[0m \u001b[0;32mand\u001b[0m \u001b[0;34m(\u001b[0m\u001b[0mself\u001b[0m\u001b[0;34m.\u001b[0m\u001b[0mholds_integer\u001b[0m\u001b[0;34m(\u001b[0m\u001b[0;34m)\u001b[0m \u001b[0;32mor\u001b[0m \u001b[0mself\u001b[0m\u001b[0;34m.\u001b[0m\u001b[0mis_boolean\u001b[0m\u001b[0;34m(\u001b[0m\u001b[0;34m)\u001b[0m\u001b[0;34m)\u001b[0m\u001b[0;34m:\u001b[0m\u001b[0;34m\u001b[0m\u001b[0;34m\u001b[0m\u001b[0m\n",
      "\u001b[0;32mpandas/_libs/index.pyx\u001b[0m in \u001b[0;36mpandas._libs.index.IndexEngine.get_value\u001b[0;34m()\u001b[0m\n",
      "\u001b[0;32mpandas/_libs/index.pyx\u001b[0m in \u001b[0;36mpandas._libs.index.IndexEngine.get_value\u001b[0;34m()\u001b[0m\n",
      "\u001b[0;32mpandas/_libs/index.pyx\u001b[0m in \u001b[0;36mpandas._libs.index.IndexEngine.get_loc\u001b[0;34m()\u001b[0m\n",
      "\u001b[0;32mpandas/_libs/index_class_helper.pxi\u001b[0m in \u001b[0;36mpandas._libs.index.Int64Engine._check_type\u001b[0;34m()\u001b[0m\n",
      "\u001b[0;31mKeyError\u001b[0m: 'Transaction_details'"
     ]
    }
   ],
   "source": [
    "\n",
    "for i in df:\n",
    "    for j in new_df:\n",
    "        if(df['Transaction_details'] == new_df['Transaction_details']):\n",
    "            if(new_df['PriceT'] > new1_df['PriceT']):\n",
    "                new_df['Type']='Building'\n",
    "            else:\n",
    "                new_df['Type']= 'Land'\n",
    "  \n"
   ]
  },
  {
   "cell_type": "code",
   "execution_count": null,
   "metadata": {},
   "outputs": [],
   "source": [
    "for index , row in df.iterrows():\n",
    "    for index , row in new_df[1:].iterrows():\n",
    "        if ( (row['Transaction_details']) == (row['Transaction_details']) ):\n",
    "            new_df['Type']='Building'\n",
    "        else:\n",
    "                new_df['Type']= 'Land'\n",
    "        \n",
    "    "
   ]
  },
  {
   "cell_type": "code",
   "execution_count": null,
   "metadata": {},
   "outputs": [],
   "source": [
    "new_df.head()"
   ]
  },
  {
   "cell_type": "code",
   "execution_count": null,
   "metadata": {},
   "outputs": [],
   "source": []
  },
  {
   "cell_type": "code",
   "execution_count": null,
   "metadata": {},
   "outputs": [],
   "source": []
  },
  {
   "cell_type": "code",
   "execution_count": null,
   "metadata": {},
   "outputs": [],
   "source": [
    "df_columns = df.columns.values\n",
    "for index, row in df.iterrows():\n",
    "    j= 0\n",
    "    for item in row:\n",
    "        print df_two.get_value(index, df_columns[j])\n",
    "        j= j+1    "
   ]
  },
  {
   "cell_type": "code",
   "execution_count": null,
   "metadata": {},
   "outputs": [],
   "source": []
  }
 ],
 "metadata": {
  "kernelspec": {
   "display_name": "Python 3",
   "language": "python",
   "name": "python3"
  },
  "language_info": {
   "codemirror_mode": {
    "name": "ipython",
    "version": 3
   },
   "file_extension": ".py",
   "mimetype": "text/x-python",
   "name": "python",
   "nbconvert_exporter": "python",
   "pygments_lexer": "ipython3",
   "version": "3.8.3"
  }
 },
 "nbformat": 4,
 "nbformat_minor": 4
}
